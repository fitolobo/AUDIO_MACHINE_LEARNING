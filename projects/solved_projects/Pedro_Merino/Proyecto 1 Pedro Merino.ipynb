{
  "cells": [
    {
      "cell_type": "code",
      "execution_count": 1,
      "metadata": {
        "colab": {
          "base_uri": "https://localhost:8080/"
        },
        "id": "R4icri1rU2pM",
        "outputId": "ba7d5fa4-c5db-403d-8783-10e893843c96"
      },
      "outputs": [],
      "source": [
        "#pip install librosa"
      ]
    },
    {
      "cell_type": "code",
      "execution_count": 2,
      "metadata": {
        "id": "MoHQBn3cVBHn"
      },
      "outputs": [],
      "source": [
        "import os\n",
        "import librosa\n",
        "import numpy as np\n",
        "import matplotlib.pyplot as plt"
      ]
    },
    {
      "cell_type": "code",
      "execution_count": 3,
      "metadata": {
        "colab": {
          "base_uri": "https://localhost:8080/"
        },
        "id": "qAj2I0MZVQ7j",
        "outputId": "546edd32-0066-4744-ef9f-4e33c021e718"
      },
      "outputs": [],
      "source": [
        "# from google.colab import drive\n",
        "# drive.mount('/content/drive')"
      ]
    },
    {
      "cell_type": "code",
      "execution_count": 4,
      "metadata": {
        "id": "F7Z_844vaZBk"
      },
      "outputs": [],
      "source": [
        "#Creamos conjuntos vacíos para categorizar todo los valores entrantes y la ruta de acceso a los datos de 'kick' y 'snare'\n",
        "all_labels = []"
      ]
    },
    {
      "cell_type": "code",
      "execution_count": 5,
      "metadata": {
        "id": "IvAg426rXK_u"
      },
      "outputs": [],
      "source": [
        "audio_folderkick = '/Users/rodolfolobocarrasco/Desktop/Audio_Machine_Learning/projects/project_1/solution/data/kick'\n",
        "audio_fileskick = [os.path.join(audio_folderkick, file) for file in os.listdir(audio_folderkick) if file.endswith('.wav')]"
      ]
    },
    {
      "cell_type": "code",
      "execution_count": 6,
      "metadata": {
        "id": "CnIyjNKgfe15"
      },
      "outputs": [],
      "source": [
        "all_featureskick = []"
      ]
    },
    {
      "cell_type": "markdown",
      "metadata": {},
      "source": [
        "¿Por qué no usó wav2vec2 y t-sne?"
      ]
    },
    {
      "cell_type": "code",
      "execution_count": 7,
      "metadata": {
        "colab": {
          "base_uri": "https://localhost:8080/"
        },
        "id": "sUqRGANvfmte",
        "outputId": "7d34ed4f-6206-4029-b145-a02a21771249"
      },
      "outputs": [
        {
          "name": "stderr",
          "output_type": "stream",
          "text": [
            "/Users/rodolfolobocarrasco/.pyenv/versions/3.11.6/envs/ambiente-audio-2023/lib/python3.11/site-packages/librosa/core/pitch.py:101: UserWarning: Trying to estimate tuning from empty frequency set.\n",
            "  return pitch_tuning(\n"
          ]
        }
      ],
      "source": [
        "\n",
        "# Bucle para todas las características de 'kick'\n",
        "for file_path in audio_fileskick:\n",
        "  # Cargar el archivo de audio, se utiliza el sample rate original de los audios\n",
        "  audio, sample_rate = librosa.load(file_path)\n",
        "\n",
        "  # Extraer características\n",
        "  chroma = librosa.feature.chroma_stft(y=audio, sr=sample_rate, tuning=None)\n",
        "  spectral_contrast = librosa.feature.spectral_contrast(y=audio, sr=sample_rate)\n",
        "  zero_crossing_rate = librosa.feature.zero_crossing_rate(audio)\n",
        "  spectral_rolloff = librosa.feature.spectral_rolloff(y=audio, sr=sample_rate)\n",
        "  spectral_bandwidth = librosa.feature.spectral_bandwidth(y=audio, sr=sample_rate)\n",
        "  spectral_centroid = librosa.feature.spectral_centroid(y=audio, sr=sample_rate)\n",
        "\n",
        " # Encuentra el mínimo número de filas (tiempo) entre todas las características extraídas\n",
        " # Ya que diferentes características pueden tener diferentes longitudes temporales debido a como se calculan.\n",
        "\n",
        "  min_length = min(chroma.shape[1], spectral_contrast.shape[1], zero_crossing_rate.shape[1], spectral_rolloff.shape[1], spectral_bandwidth.shape[1], spectral_centroid.shape[1])\n",
        "\n",
        " # Trunca las características para que todas tengan el mismo número de filas\n",
        " # Esto garantiza que todas las características tengan la misma longitud temporal para que puedan ser apiladas y comparadas de manera efectiva.\n",
        "  chroma = chroma[:, :min_length]\n",
        "  spectral_contrast = spectral_contrast[:, :min_length]\n",
        "  zero_crossing_rate = zero_crossing_rate[0, :min_length]\n",
        "  spectral_rolloff = spectral_rolloff[0, :min_length]\n",
        "  spectral_bandwidth = spectral_bandwidth[0, :min_length]\n",
        "  spectral_centroid = spectral_centroid[0, :min_length]\n",
        "\n",
        " # Apila las características horizontalmente para el archivo actual\n",
        " # Lo que significa que para cada punto de tiempo, tienes un vector que es la concatenación de todas las características en ese punto de tiempo\n",
        " # El método '.T' es usado para transponer las matrices de características para que concuerden con la estructura de datos esperada por los algoritmos de aprendizaje automático.\n",
        "  features = np.hstack((chroma.T, spectral_contrast.T, zero_crossing_rate.reshape(-1, 1), spectral_rolloff.reshape(-1, 1), spectral_bandwidth.reshape(-1, 1), spectral_centroid.reshape(-1, 1)))\n",
        "\n",
        " # Añade la matriz de características a la lista general\n",
        "  all_featureskick.append(features)\n",
        "  all_labels.append('kick')\n",
        "\n",
        "# Después del bucle, cuando todas las características hayan sido calculadas y ajustadas\n",
        "# Concatena todas las matrices de características a lo largo del eje 0 (apilamiento vertical)\n",
        "final_feature_matrixkick = np.vstack(all_featureskick)\n"
      ]
    },
    {
      "cell_type": "code",
      "execution_count": 8,
      "metadata": {
        "id": "LfQDdfKIeBXo"
      },
      "outputs": [],
      "source": [
        "audio_foldersnare = '/Users/rodolfolobocarrasco/Desktop/Audio_Machine_Learning/projects/project_1/solution/data/snare'\n",
        "audio_filessnare = [os.path.join(audio_foldersnare, file) for file in os.listdir(audio_foldersnare) if file.endswith('.wav')]"
      ]
    },
    {
      "cell_type": "code",
      "execution_count": 9,
      "metadata": {
        "id": "WRJcYiXIeBXp"
      },
      "outputs": [],
      "source": [
        "all_featuressnare = []"
      ]
    },
    {
      "cell_type": "code",
      "execution_count": 10,
      "metadata": {
        "id": "qaHG2NpFeBXp"
      },
      "outputs": [],
      "source": [
        "# Mismo proceso pero ahora para 'snare'\n",
        "\n",
        "# Bucle para todas las características de 'snare'\n",
        "for file_path in audio_filessnare:\n",
        "  # Cargar el archivo de audio\n",
        "  audio, sample_rate = librosa.load(file_path)\n",
        "\n",
        "  # Extraer características\n",
        "  chroma = librosa.feature.chroma_stft(y=audio, sr=sample_rate, tuning=None)\n",
        "  spectral_contrast = librosa.feature.spectral_contrast(y=audio, sr=sample_rate)\n",
        "  zero_crossing_rate = librosa.feature.zero_crossing_rate(audio)\n",
        "  spectral_rolloff = librosa.feature.spectral_rolloff(y=audio, sr=sample_rate)\n",
        "  spectral_bandwidth = librosa.feature.spectral_bandwidth(y=audio, sr=sample_rate)\n",
        "  spectral_centroid = librosa.feature.spectral_centroid(y=audio, sr=sample_rate)\n",
        "\n",
        "  min_length = min(chroma.shape[1], spectral_contrast.shape[1], zero_crossing_rate.shape[1], spectral_rolloff.shape[1], spectral_bandwidth.shape[1], spectral_centroid.shape[1])\n",
        "\n",
        "  chroma = chroma[:, :min_length]\n",
        "  spectral_contrast = spectral_contrast[:, :min_length]\n",
        "  zero_crossing_rate = zero_crossing_rate[0, :min_length]\n",
        "  spectral_rolloff = spectral_rolloff[0, :min_length]\n",
        "  spectral_bandwidth = spectral_bandwidth[0, :min_length]\n",
        "  spectral_centroid = spectral_centroid[0, :min_length]\n",
        "\n",
        "  features = np.hstack((chroma.T, spectral_contrast.T, zero_crossing_rate.reshape(-1, 1), spectral_rolloff.reshape(-1, 1), spectral_bandwidth.reshape(-1, 1), spectral_centroid.reshape(-1, 1)))\n",
        "\n",
        "  all_featuressnare.append(features)\n",
        "  all_labels.append('snare')\n",
        "\n",
        "final_feature_matrixsnare = np.vstack(all_featuressnare)\n"
      ]
    },
    {
      "cell_type": "code",
      "execution_count": 11,
      "metadata": {
        "colab": {
          "base_uri": "https://localhost:8080/"
        },
        "id": "cfjaM47_bs9p",
        "outputId": "2ccdbb11-0b4c-4ff4-c8ec-aa100e952854"
      },
      "outputs": [
        {
          "name": "stdout",
          "output_type": "stream",
          "text": [
            "(6960, 23)\n"
          ]
        }
      ],
      "source": [
        "# Concatenar las matrices de características de 'kick' y 'snare' en una sola matriz.\n",
        "# Como resultado, se obtiene una matriz donde cada fila representa un conjunto de características de uno de los sonidos.\n",
        "final_feature_matrix = np.concatenate((final_feature_matrixkick, final_feature_matrixsnare))\n",
        "print(final_feature_matrix.shape)"
      ]
    },
    {
      "cell_type": "code",
      "execution_count": 12,
      "metadata": {
        "id": "PxqnoM6Ea_e0"
      },
      "outputs": [],
      "source": [
        "from sklearn.preprocessing import LabelEncoder\n",
        "\n",
        "# Convertir etiquetas categóricas a numéricas, se asignará un valor numérico a cada una de las categorías únicas de etiquetas.\n",
        "label_encoder = LabelEncoder()\n",
        "labels = label_encoder.fit_transform(all_labels)  # 'kick' y 'snare' se convierten a 0 y 1, respectivamente"
      ]
    },
    {
      "cell_type": "code",
      "execution_count": 13,
      "metadata": {
        "colab": {
          "base_uri": "https://localhost:8080/"
        },
        "id": "ew9QvSYhdHJV",
        "outputId": "5e87f124-199f-4dd8-c397-3b3a6693d3f8"
      },
      "outputs": [
        {
          "name": "stdout",
          "output_type": "stream",
          "text": [
            "(80,)\n"
          ]
        }
      ],
      "source": [
        "print(labels.shape)"
      ]
    },
    {
      "cell_type": "code",
      "execution_count": 14,
      "metadata": {
        "id": "sGYQzu4f-0Ge"
      },
      "outputs": [],
      "source": [
        "from sklearn.preprocessing import StandardScaler\n",
        "\n",
        "# Crear el objeto StandardScaler, y se inicia la normalización\n",
        "scaler = StandardScaler()\n",
        "\n",
        "# Ajustar y transformar la matriz de características\n",
        "X_scaled = scaler.fit_transform(final_feature_matrix)\n",
        "\n",
        "# Ahora final_feature_matrix está normalizado y listo para la reducción de dimensionalidad\n"
      ]
    },
    {
      "cell_type": "code",
      "execution_count": 15,
      "metadata": {
        "id": "rgFSC-rLBfsC"
      },
      "outputs": [],
      "source": [
        "from sklearn.manifold import TSNE\n",
        "\n",
        "# Configura t-SNE con los parámetros deseados lo que significa que se reducirá la dimensionalidad de las características a dos dimensiones\n",
        "tsne = TSNE(n_components=2, random_state=42)\n",
        "\n",
        "# Aplica t-SNE a las características normalizadas para reducir su dimensionalidad\n",
        "# Como resultado, 'transformed_data' es una representación bidimensional de las características de audio.\n",
        "transformed_data = tsne.fit_transform(X_scaled)"
      ]
    },
    {
      "cell_type": "code",
      "execution_count": 16,
      "metadata": {
        "colab": {
          "base_uri": "https://localhost:8080/"
        },
        "id": "f5pREmDDB0qI",
        "outputId": "db650f0c-f503-4632-a3ff-860cded09f1c"
      },
      "outputs": [
        {
          "data": {
            "text/plain": [
              "(6960, 2)"
            ]
          },
          "execution_count": 16,
          "metadata": {},
          "output_type": "execute_result"
        }
      ],
      "source": [
        "transformed_data.shape"
      ]
    },
    {
      "cell_type": "code",
      "execution_count": 17,
      "metadata": {
        "id": "zXLuicCg0GFo"
      },
      "outputs": [],
      "source": [
        "import pandas as pd"
      ]
    },
    {
      "cell_type": "code",
      "execution_count": 18,
      "metadata": {
        "id": "GK9TSldv0ALD"
      },
      "outputs": [],
      "source": [
        "# Crear DataFrame que permite manejar los datos de manera más conveniente para análisis y visualización.\n",
        "df_tsne = pd.DataFrame(transformed_data)\n",
        "\n",
        "# Agregar una columna de 'targets' al DataFrame que contendrá las etiquetas de los datos.\n",
        "# Se asigna 1 a todas las filas que representan 'kick' y 0 a todas las filas que representan 'snare'.\n",
        "# Esto se logra multiplicando una lista de unos o ceros por el número de veces que cada etiqueta\n",
        "# aparece en el conjunto de datos, que es igual al número de filas de las características de 'kick'\n",
        "# y 'snare', respectivamente.\n",
        "df_tsne['targets'] = final_feature_matrixkick.shape[0]*[1] + final_feature_matrixsnare.shape[0]*[0]"
      ]
    },
    {
      "cell_type": "code",
      "execution_count": 19,
      "metadata": {
        "id": "OsSDdKef0Onm"
      },
      "outputs": [],
      "source": [
        "# Asignar nombres a las columnas del DataFrame para una referencia más entendible.\n",
        "# Las dos primeras columnas contienen las coordenadas x e y de la visualización t-SNE,\n",
        "# y la tercera columna contiene las etiquetas o 'targets'.\n",
        "df_tsne.columns = ['x','y','targets']"
      ]
    },
    {
      "cell_type": "code",
      "execution_count": 20,
      "metadata": {
        "colab": {
          "base_uri": "https://localhost:8080/",
          "height": 206
        },
        "id": "fTQf1Kda0ikh",
        "outputId": "d8e53a3c-b5a7-4263-b1d0-4ed55cfa5286"
      },
      "outputs": [
        {
          "data": {
            "text/html": [
              "<div>\n",
              "<style scoped>\n",
              "    .dataframe tbody tr th:only-of-type {\n",
              "        vertical-align: middle;\n",
              "    }\n",
              "\n",
              "    .dataframe tbody tr th {\n",
              "        vertical-align: top;\n",
              "    }\n",
              "\n",
              "    .dataframe thead th {\n",
              "        text-align: right;\n",
              "    }\n",
              "</style>\n",
              "<table border=\"1\" class=\"dataframe\">\n",
              "  <thead>\n",
              "    <tr style=\"text-align: right;\">\n",
              "      <th></th>\n",
              "      <th>x</th>\n",
              "      <th>y</th>\n",
              "      <th>targets</th>\n",
              "    </tr>\n",
              "  </thead>\n",
              "  <tbody>\n",
              "    <tr>\n",
              "      <th>0</th>\n",
              "      <td>24.756870</td>\n",
              "      <td>15.668330</td>\n",
              "      <td>1</td>\n",
              "    </tr>\n",
              "    <tr>\n",
              "      <th>1</th>\n",
              "      <td>34.338223</td>\n",
              "      <td>3.526079</td>\n",
              "      <td>1</td>\n",
              "    </tr>\n",
              "    <tr>\n",
              "      <th>2</th>\n",
              "      <td>34.210819</td>\n",
              "      <td>-5.917935</td>\n",
              "      <td>1</td>\n",
              "    </tr>\n",
              "    <tr>\n",
              "      <th>3</th>\n",
              "      <td>45.420788</td>\n",
              "      <td>-4.974782</td>\n",
              "      <td>1</td>\n",
              "    </tr>\n",
              "    <tr>\n",
              "      <th>4</th>\n",
              "      <td>57.374584</td>\n",
              "      <td>-1.252133</td>\n",
              "      <td>1</td>\n",
              "    </tr>\n",
              "  </tbody>\n",
              "</table>\n",
              "</div>"
            ],
            "text/plain": [
              "           x          y  targets\n",
              "0  24.756870  15.668330        1\n",
              "1  34.338223   3.526079        1\n",
              "2  34.210819  -5.917935        1\n",
              "3  45.420788  -4.974782        1\n",
              "4  57.374584  -1.252133        1"
            ]
          },
          "execution_count": 20,
          "metadata": {},
          "output_type": "execute_result"
        }
      ],
      "source": [
        "# Muestra las primeras 5 filas del DataFrame\n",
        "df_tsne.head(5)"
      ]
    },
    {
      "cell_type": "code",
      "execution_count": 21,
      "metadata": {
        "id": "d7lQ3mPa0Urb"
      },
      "outputs": [],
      "source": [
        "import seaborn as sns"
      ]
    },
    {
      "cell_type": "code",
      "execution_count": 22,
      "metadata": {
        "colab": {
          "base_uri": "https://localhost:8080/",
          "height": 324
        },
        "id": "XrExbtEQ0QSF",
        "outputId": "b9321414-ca1a-4766-c33e-2b3263597763"
      },
      "outputs": [
        {
          "data": {
            "text/plain": [
              "<seaborn.axisgrid.FacetGrid at 0x2d8c37d10>"
            ]
          },
          "execution_count": 22,
          "metadata": {},
          "output_type": "execute_result"
        },
        {
          "data": {
            "image/png": "[encoded data removed]",
            "text/plain": [
              "<Figure size 360.736x300 with 1 Axes>"
            ]
          },
          "metadata": {},
          "output_type": "display_data"
        }
      ],
      "source": [
        "# Crear un 'FacetGrid' que es una figura con varios ejes donde se pueden dibujar gráficos.\n",
        "grid = sns.FacetGrid(df_tsne,hue = \"targets\")\n",
        "\n",
        "# Se especifican las columnas 'x' e 'y' como las coordenadas para el gráfico de dispersión.\n",
        "grid.map(plt.scatter,\"x\",\"y\").add_legend()"
      ]
    },
    {
      "cell_type": "code",
      "execution_count": 23,
      "metadata": {
        "id": "M_YtwX1_x-iK"
      },
      "outputs": [],
      "source": [
        "# Seleccionar las columnas 'x' e 'y' del DataFrame para usar como características (X).\n",
        "X = df_tsne[['x','y']]\n",
        "# Seleccionar la columna 'targets' del DataFrame para usar como etiquetas (y).\n",
        "y = df_tsne['targets']\n",
        "# Convertir los DataFrames de pandas a arrays de NumPy.\n",
        "X = X.to_numpy()\n",
        "y = y.to_numpy()"
      ]
    },
    {
      "cell_type": "code",
      "execution_count": 24,
      "metadata": {
        "colab": {
          "base_uri": "https://localhost:8080/"
        },
        "id": "WkWsHPM_cbAL",
        "outputId": "2c6a4e5a-c062-4497-fbc9-cd717006e77e"
      },
      "outputs": [
        {
          "name": "stdout",
          "output_type": "stream",
          "text": [
            "Entrenamiento de características (X_train): 5568\n",
            "Entrenamiento de etiquetas (y_train): 5568\n",
            "Prueba de características (X_test): 1392\n",
            "Prueba de etiquetas (y_test): 1392\n"
          ]
        }
      ],
      "source": [
        "from sklearn.model_selection import train_test_split\n",
        "# Dividir los datos en conjuntos de entrenamiento y prueba.\n",
        "# 'test_size=0.2' significa que el 20% de los datos se utilizará para el conjunto de prueba, y el resto para el conjunto de entrenamiento.\n",
        "X_train, X_test, y_train, y_test = train_test_split(X, y, test_size=0.2, random_state=42)\n",
        "\n",
        "# Verifica las divisiones\n",
        "print(\"Entrenamiento de características (X_train):\", len(X_train))\n",
        "print(\"Entrenamiento de etiquetas (y_train):\", len(y_train))\n",
        "print(\"Prueba de características (X_test):\", len(X_test))\n",
        "print(\"Prueba de etiquetas (y_test):\", len(y_test))\n",
        "\n",
        "# Los pares X_train y y_train deben tener la misma longitud, y lo mismo para X_test y y_test.\n"
      ]
    },
    {
      "cell_type": "code",
      "execution_count": 25,
      "metadata": {
        "id": "vP_JUwrk8C4Q"
      },
      "outputs": [],
      "source": [
        "# StandardScaler normaliza los datos de tal manera que tengan una media de 0 y una desviación estándar de 1.\n",
        "scaler = StandardScaler()\n",
        "\n",
        "# Ajustar el scaler al conjunto de entrenamiento y transformarlo.\n",
        "X_train_scaled = scaler.fit_transform(X_train)\n",
        "# Transformar el conjunto de prueba utilizando los mismos parámetros que se calcularon para el conjunto de entrenamiento.\n",
        "X_test_scaled = scaler.transform(X_test)\n"
      ]
    },
    {
      "cell_type": "code",
      "execution_count": 26,
      "metadata": {
        "colab": {
          "base_uri": "https://localhost:8080/"
        },
        "id": "xKukc-T8SZSE",
        "outputId": "2a4c82e5-e878-4473-d416-59e0f7df9e3f"
      },
      "outputs": [
        {
          "name": "stdout",
          "output_type": "stream",
          "text": [
            "Accuracy: 56.60919540229885%\n"
          ]
        }
      ],
      "source": [
        "class Perceptron:\n",
        "    \"\"\" \n",
        "        doc\n",
        "    \"\"\"\n",
        "    def __init__(self, num_features):\n",
        "    # Este método inicializa el perceptrón. Se establece un array de pesos (self.weights) y un sesgo (self.bias).\n",
        "    # Los pesos se inicializan con valores aleatorios pequeños multiplicados por 0.01 para mantenerlos en una escala manejable.\n",
        "\n",
        "        self.weights = np.random.randn(num_features) * 0.01 ### ¿Por qué no desde una distribución normal? o ceros?\n",
        "        self.bias = 0\n",
        "\n",
        "    def forward(self, x):\n",
        "        \"\"\" \n",
        "            doc\n",
        "        \"\"\"\n",
        "    # Luego esta sección realiza la propagación hacia adelante.\n",
        "    # Calcula la salida del perceptrón para una entrada x.\n",
        "    # Utiliza la función sigmoide para la activación\n",
        "\n",
        "        z = np.dot(x, self.weights) + self.bias\n",
        "        return 1 / (1 + np.exp(-z))  # Función sigmoide ######################## ¿por que?\n",
        "\n",
        "    def backward(self, x, y, y_pred, learning_rate, lambda_param):\n",
        "        \"\"\" \n",
        "            doc\n",
        "        \"\"\"\n",
        "    # En la retroprogación actualiza los pesos y el sesgo del perceptrón utilizando el algoritmo de descenso de gradiente.\n",
        "    # Se aplica una penalización L2 a los pesos para evitar el sobreajuste (esto es lo que hace lambda_param * self.weights).\n",
        "\n",
        "        error = y - y_pred\n",
        "        weight_update = learning_rate * (error * x - lambda_param * self.weights)\n",
        "        bias_update = learning_rate * error\n",
        "\n",
        "        self.weights += weight_update\n",
        "        self.bias += bias_update\n",
        "\n",
        "    def train(self, X, Y, epochs, learning_rate, lambda_param):\n",
        "        \"\"\" \n",
        "            doc\n",
        "        \"\"\"\n",
        "    # Se entrena el perceptrón durante un número específico de épocas.\n",
        "    # En cada época, se actualizan los pesos y el sesgo para cada muestra en el conjunto de entrenamiento.\n",
        "\n",
        "        for epoch in range(epochs):\n",
        "            for x, y in zip(X, Y):\n",
        "                y_pred = self.forward(x)\n",
        "                self.backward(x, y, y_pred, learning_rate, lambda_param)\n",
        "\n",
        "    def evaluate(self, X, Y):\n",
        "        \"\"\" \n",
        "            doc\n",
        "        \"\"\"\n",
        "    # Y finalmente se evalúa el perceptrón en un conjunto de datos.\n",
        "    # Calcula la precisión del modelo comparando las predicciones con las etiquetas reales.\n",
        "\n",
        "        correct_predictions = 0\n",
        "        for x, y in zip(X, Y):\n",
        "            y_pred = self.forward(x)\n",
        "            if y_pred >= 0.5 and y == 1 or y_pred < 0.5 and y == 0:\n",
        "                correct_predictions += 1\n",
        "        accuracy = correct_predictions / len(Y)\n",
        "        return accuracy\n",
        "\n",
        "\n",
        "# Inicializa el Perceptrón con el número de características de tus datos transformados\n",
        "perceptron = Perceptron(num_features=2)  # Se crea una instancia del perceptrón con 2 características\n",
        "                                         # Que corresponde al número de dimensiones resultantes de la reducción de dimensionalidad t-SNE.\n",
        "\n",
        "# Entrena el modelo con los datos de entrenamiento\n",
        "# Utilizando una tasa de aprendizaje de 0.01 y un parámetro de regularización L2 (lambda_param) de 0.001 durante 10 épocas.\n",
        "perceptron.train(X_train, y_train, epochs=10, learning_rate=0.01, lambda_param=0.001)\n",
        "\n",
        "# Evalúa el modelo con los datos de prueba para obtener la precisión\n",
        "accuracy = perceptron.evaluate(X_test, y_test)\n",
        "print(f\"Accuracy: {accuracy * 100}%\")\n"
      ]
    },
    {
      "cell_type": "code",
      "execution_count": 27,
      "metadata": {
        "colab": {
          "base_uri": "https://localhost:8080/"
        },
        "id": "BDPN3WB5Bz6T",
        "outputId": "e7bc96f4-89dd-4bf3-c7b1-570bf9ee5385"
      },
      "outputs": [
        {
          "name": "stderr",
          "output_type": "stream",
          "text": [
            "WARNING:absl:At this time, the v2.11+ optimizer `tf.keras.optimizers.Adam` runs slowly on M1/M2 Macs, please use the legacy Keras optimizer instead, located at `tf.keras.optimizers.legacy.Adam`.\n"
          ]
        },
        {
          "name": "stdout",
          "output_type": "stream",
          "text": [
            "Model: \"sequential\"\n",
            "_________________________________________________________________\n",
            " Layer (type)                Output Shape              Param #   \n",
            "=================================================================\n",
            " dense (Dense)               (None, 64)                192       \n",
            "                                                                 \n",
            " dense_1 (Dense)             (None, 32)                2080      \n",
            "                                                                 \n",
            " dense_2 (Dense)             (None, 1)                 33        \n",
            "                                                                 \n",
            "=================================================================\n",
            "Total params: 2305 (9.00 KB)\n",
            "Trainable params: 2305 (9.00 KB)\n",
            "Non-trainable params: 0 (0.00 Byte)\n",
            "_________________________________________________________________\n",
            "Epoch 1/100\n",
            "140/140 [==============================] - 0s 1ms/step - loss: 0.3983 - accuracy: 0.8267 - val_loss: 0.3800 - val_accuracy: 0.8375\n",
            "Epoch 2/100\n",
            "140/140 [==============================] - 0s 563us/step - loss: 0.3158 - accuracy: 0.8579 - val_loss: 0.3587 - val_accuracy: 0.8366\n",
            "Epoch 3/100\n",
            "140/140 [==============================] - 0s 553us/step - loss: 0.3089 - accuracy: 0.8597 - val_loss: 0.3633 - val_accuracy: 0.8348\n",
            "Epoch 4/100\n",
            "140/140 [==============================] - 0s 549us/step - loss: 0.2978 - accuracy: 0.8702 - val_loss: 0.3398 - val_accuracy: 0.8384\n",
            "Epoch 5/100\n",
            "140/140 [==============================] - 0s 636us/step - loss: 0.2923 - accuracy: 0.8664 - val_loss: 0.3157 - val_accuracy: 0.8474\n",
            "Epoch 6/100\n",
            "140/140 [==============================] - 0s 565us/step - loss: 0.2856 - accuracy: 0.8705 - val_loss: 0.3332 - val_accuracy: 0.8591\n",
            "Epoch 7/100\n",
            "140/140 [==============================] - 0s 540us/step - loss: 0.2791 - accuracy: 0.8705 - val_loss: 0.3084 - val_accuracy: 0.8618\n",
            "Epoch 8/100\n",
            "140/140 [==============================] - 0s 548us/step - loss: 0.2765 - accuracy: 0.8770 - val_loss: 0.3159 - val_accuracy: 0.8537\n",
            "Epoch 9/100\n",
            "140/140 [==============================] - 0s 541us/step - loss: 0.2685 - accuracy: 0.8819 - val_loss: 0.3006 - val_accuracy: 0.8618\n",
            "Epoch 10/100\n",
            "140/140 [==============================] - 0s 541us/step - loss: 0.2651 - accuracy: 0.8826 - val_loss: 0.2874 - val_accuracy: 0.8573\n",
            "Epoch 11/100\n",
            "140/140 [==============================] - 0s 539us/step - loss: 0.2651 - accuracy: 0.8806 - val_loss: 0.3181 - val_accuracy: 0.8519\n",
            "Epoch 12/100\n",
            "140/140 [==============================] - 0s 532us/step - loss: 0.2617 - accuracy: 0.8873 - val_loss: 0.2800 - val_accuracy: 0.8618\n",
            "Epoch 13/100\n",
            "140/140 [==============================] - 0s 544us/step - loss: 0.2534 - accuracy: 0.8862 - val_loss: 0.2875 - val_accuracy: 0.8725\n",
            "Epoch 14/100\n",
            "140/140 [==============================] - 0s 538us/step - loss: 0.2570 - accuracy: 0.8895 - val_loss: 0.2881 - val_accuracy: 0.8501\n",
            "Epoch 15/100\n",
            "140/140 [==============================] - 0s 554us/step - loss: 0.2554 - accuracy: 0.8900 - val_loss: 0.2735 - val_accuracy: 0.8896\n",
            "Epoch 16/100\n",
            "140/140 [==============================] - 0s 539us/step - loss: 0.2571 - accuracy: 0.8889 - val_loss: 0.2887 - val_accuracy: 0.8591\n",
            "Epoch 17/100\n",
            "140/140 [==============================] - 0s 548us/step - loss: 0.2555 - accuracy: 0.8889 - val_loss: 0.2835 - val_accuracy: 0.8636\n",
            "Epoch 18/100\n",
            "140/140 [==============================] - 0s 553us/step - loss: 0.2488 - accuracy: 0.8949 - val_loss: 0.2904 - val_accuracy: 0.8743\n",
            "Epoch 19/100\n",
            "140/140 [==============================] - 0s 539us/step - loss: 0.2528 - accuracy: 0.8907 - val_loss: 0.2691 - val_accuracy: 0.8752\n",
            "Epoch 20/100\n",
            "140/140 [==============================] - 0s 537us/step - loss: 0.2480 - accuracy: 0.8952 - val_loss: 0.2702 - val_accuracy: 0.8770\n",
            "Epoch 21/100\n",
            "140/140 [==============================] - 0s 534us/step - loss: 0.2466 - accuracy: 0.8925 - val_loss: 0.3008 - val_accuracy: 0.8402\n",
            "Epoch 22/100\n",
            "140/140 [==============================] - 0s 534us/step - loss: 0.2459 - accuracy: 0.8960 - val_loss: 0.2648 - val_accuracy: 0.8716\n",
            "Epoch 23/100\n",
            "140/140 [==============================] - 0s 536us/step - loss: 0.2439 - accuracy: 0.8992 - val_loss: 0.2657 - val_accuracy: 0.8680\n",
            "Epoch 24/100\n",
            "140/140 [==============================] - 0s 529us/step - loss: 0.2445 - accuracy: 0.8969 - val_loss: 0.2638 - val_accuracy: 0.8923\n",
            "Epoch 25/100\n",
            "140/140 [==============================] - 0s 526us/step - loss: 0.2467 - accuracy: 0.8945 - val_loss: 0.2701 - val_accuracy: 0.8716\n",
            "Epoch 26/100\n",
            "140/140 [==============================] - 0s 527us/step - loss: 0.2389 - accuracy: 0.9010 - val_loss: 0.2594 - val_accuracy: 0.8986\n",
            "Epoch 27/100\n",
            "140/140 [==============================] - 0s 524us/step - loss: 0.2383 - accuracy: 0.8992 - val_loss: 0.2622 - val_accuracy: 0.8878\n",
            "Epoch 28/100\n",
            "140/140 [==============================] - 0s 534us/step - loss: 0.2434 - accuracy: 0.8945 - val_loss: 0.2591 - val_accuracy: 0.8914\n",
            "Epoch 29/100\n",
            "140/140 [==============================] - 0s 517us/step - loss: 0.2376 - accuracy: 0.8999 - val_loss: 0.2737 - val_accuracy: 0.8770\n",
            "Epoch 30/100\n",
            "140/140 [==============================] - 0s 524us/step - loss: 0.2369 - accuracy: 0.9001 - val_loss: 0.2467 - val_accuracy: 0.8941\n",
            "Epoch 31/100\n",
            "140/140 [==============================] - 0s 536us/step - loss: 0.2341 - accuracy: 0.9019 - val_loss: 0.2501 - val_accuracy: 0.8842\n",
            "Epoch 32/100\n",
            "140/140 [==============================] - 0s 532us/step - loss: 0.2370 - accuracy: 0.8976 - val_loss: 0.2600 - val_accuracy: 0.8851\n",
            "Epoch 33/100\n",
            "140/140 [==============================] - 0s 528us/step - loss: 0.2297 - accuracy: 0.9028 - val_loss: 0.2702 - val_accuracy: 0.8770\n",
            "Epoch 34/100\n",
            "140/140 [==============================] - 0s 534us/step - loss: 0.2312 - accuracy: 0.9028 - val_loss: 0.2478 - val_accuracy: 0.9022\n",
            "Epoch 35/100\n",
            "140/140 [==============================] - 0s 550us/step - loss: 0.2334 - accuracy: 0.8967 - val_loss: 0.2535 - val_accuracy: 0.9031\n",
            "Epoch 36/100\n",
            "140/140 [==============================] - 0s 576us/step - loss: 0.2223 - accuracy: 0.9068 - val_loss: 0.2583 - val_accuracy: 0.8806\n",
            "Epoch 37/100\n",
            "140/140 [==============================] - 0s 530us/step - loss: 0.2248 - accuracy: 0.9070 - val_loss: 0.2417 - val_accuracy: 0.9075\n",
            "Epoch 38/100\n",
            "140/140 [==============================] - 0s 542us/step - loss: 0.2177 - accuracy: 0.9109 - val_loss: 0.2371 - val_accuracy: 0.9039\n",
            "Epoch 39/100\n",
            "140/140 [==============================] - 0s 535us/step - loss: 0.2175 - accuracy: 0.9079 - val_loss: 0.2383 - val_accuracy: 0.8932\n",
            "Epoch 40/100\n",
            "140/140 [==============================] - 0s 533us/step - loss: 0.2153 - accuracy: 0.9118 - val_loss: 0.2348 - val_accuracy: 0.8977\n",
            "Epoch 41/100\n",
            "140/140 [==============================] - 0s 537us/step - loss: 0.2196 - accuracy: 0.9075 - val_loss: 0.2248 - val_accuracy: 0.9174\n",
            "Epoch 42/100\n",
            "140/140 [==============================] - 0s 538us/step - loss: 0.2228 - accuracy: 0.9057 - val_loss: 0.2327 - val_accuracy: 0.8968\n",
            "Epoch 43/100\n",
            "140/140 [==============================] - 0s 529us/step - loss: 0.2129 - accuracy: 0.9097 - val_loss: 0.2430 - val_accuracy: 0.9039\n",
            "Epoch 44/100\n",
            "140/140 [==============================] - 0s 523us/step - loss: 0.2162 - accuracy: 0.9073 - val_loss: 0.2323 - val_accuracy: 0.9066\n",
            "Epoch 45/100\n",
            "140/140 [==============================] - 0s 524us/step - loss: 0.2092 - accuracy: 0.9147 - val_loss: 0.2212 - val_accuracy: 0.9273\n",
            "Epoch 46/100\n",
            "140/140 [==============================] - 0s 518us/step - loss: 0.2101 - accuracy: 0.9115 - val_loss: 0.2428 - val_accuracy: 0.9004\n",
            "Epoch 47/100\n",
            "140/140 [==============================] - 0s 531us/step - loss: 0.2068 - accuracy: 0.9174 - val_loss: 0.2193 - val_accuracy: 0.9138\n",
            "Epoch 48/100\n",
            "140/140 [==============================] - 0s 529us/step - loss: 0.2101 - accuracy: 0.9138 - val_loss: 0.2184 - val_accuracy: 0.9165\n",
            "Epoch 49/100\n",
            "140/140 [==============================] - 0s 536us/step - loss: 0.1993 - accuracy: 0.9192 - val_loss: 0.2103 - val_accuracy: 0.9201\n",
            "Epoch 50/100\n",
            "140/140 [==============================] - 0s 524us/step - loss: 0.2015 - accuracy: 0.9160 - val_loss: 0.2141 - val_accuracy: 0.9246\n",
            "Epoch 51/100\n",
            "140/140 [==============================] - 0s 527us/step - loss: 0.2003 - accuracy: 0.9189 - val_loss: 0.2361 - val_accuracy: 0.8986\n",
            "Epoch 52/100\n",
            "140/140 [==============================] - 0s 521us/step - loss: 0.2003 - accuracy: 0.9219 - val_loss: 0.2123 - val_accuracy: 0.9156\n",
            "Epoch 53/100\n",
            "140/140 [==============================] - 0s 525us/step - loss: 0.2011 - accuracy: 0.9174 - val_loss: 0.2046 - val_accuracy: 0.9273\n",
            "Epoch 54/100\n",
            "140/140 [==============================] - 0s 527us/step - loss: 0.1952 - accuracy: 0.9230 - val_loss: 0.2103 - val_accuracy: 0.9219\n",
            "Epoch 55/100\n",
            "140/140 [==============================] - 0s 518us/step - loss: 0.1957 - accuracy: 0.9207 - val_loss: 0.2159 - val_accuracy: 0.9111\n",
            "Epoch 56/100\n",
            "140/140 [==============================] - 0s 518us/step - loss: 0.1951 - accuracy: 0.9205 - val_loss: 0.2090 - val_accuracy: 0.9048\n",
            "Epoch 57/100\n",
            "140/140 [==============================] - 0s 539us/step - loss: 0.1932 - accuracy: 0.9207 - val_loss: 0.2167 - val_accuracy: 0.9201\n",
            "Epoch 58/100\n",
            "140/140 [==============================] - 0s 528us/step - loss: 0.1964 - accuracy: 0.9147 - val_loss: 0.2109 - val_accuracy: 0.9201\n",
            "Epoch 59/100\n",
            "140/140 [==============================] - 0s 530us/step - loss: 0.1964 - accuracy: 0.9225 - val_loss: 0.2143 - val_accuracy: 0.9039\n",
            "Epoch 60/100\n",
            "140/140 [==============================] - 0s 522us/step - loss: 0.1914 - accuracy: 0.9228 - val_loss: 0.2067 - val_accuracy: 0.9192\n",
            "Epoch 61/100\n",
            "140/140 [==============================] - 0s 542us/step - loss: 0.1916 - accuracy: 0.9232 - val_loss: 0.1986 - val_accuracy: 0.9228\n",
            "Epoch 62/100\n",
            "140/140 [==============================] - 0s 534us/step - loss: 0.1912 - accuracy: 0.9232 - val_loss: 0.2127 - val_accuracy: 0.9120\n",
            "Epoch 63/100\n",
            "140/140 [==============================] - 0s 539us/step - loss: 0.1922 - accuracy: 0.9257 - val_loss: 0.2063 - val_accuracy: 0.9201\n",
            "Epoch 64/100\n",
            "140/140 [==============================] - 0s 534us/step - loss: 0.1895 - accuracy: 0.9239 - val_loss: 0.2148 - val_accuracy: 0.9084\n",
            "Epoch 65/100\n",
            "140/140 [==============================] - 0s 536us/step - loss: 0.1871 - accuracy: 0.9250 - val_loss: 0.2138 - val_accuracy: 0.9138\n",
            "Epoch 66/100\n",
            "140/140 [==============================] - 0s 547us/step - loss: 0.1847 - accuracy: 0.9266 - val_loss: 0.1924 - val_accuracy: 0.9291\n",
            "Epoch 67/100\n",
            "140/140 [==============================] - 0s 532us/step - loss: 0.1848 - accuracy: 0.9248 - val_loss: 0.1916 - val_accuracy: 0.9291\n",
            "Epoch 68/100\n",
            "140/140 [==============================] - 0s 533us/step - loss: 0.1818 - accuracy: 0.9286 - val_loss: 0.2203 - val_accuracy: 0.9022\n",
            "Epoch 69/100\n",
            "140/140 [==============================] - 0s 533us/step - loss: 0.1847 - accuracy: 0.9252 - val_loss: 0.1990 - val_accuracy: 0.9174\n",
            "Epoch 70/100\n",
            "140/140 [==============================] - 0s 547us/step - loss: 0.1862 - accuracy: 0.9250 - val_loss: 0.2033 - val_accuracy: 0.9120\n",
            "Epoch 71/100\n",
            "140/140 [==============================] - 0s 534us/step - loss: 0.1845 - accuracy: 0.9270 - val_loss: 0.1998 - val_accuracy: 0.9192\n",
            "Epoch 72/100\n",
            "140/140 [==============================] - 0s 532us/step - loss: 0.1835 - accuracy: 0.9248 - val_loss: 0.1890 - val_accuracy: 0.9237\n",
            "Epoch 73/100\n",
            "140/140 [==============================] - 0s 527us/step - loss: 0.1787 - accuracy: 0.9304 - val_loss: 0.2053 - val_accuracy: 0.9183\n",
            "Epoch 74/100\n",
            "140/140 [==============================] - 0s 551us/step - loss: 0.1789 - accuracy: 0.9311 - val_loss: 0.2008 - val_accuracy: 0.9165\n",
            "Epoch 75/100\n",
            "140/140 [==============================] - 0s 543us/step - loss: 0.1823 - accuracy: 0.9250 - val_loss: 0.2088 - val_accuracy: 0.9102\n",
            "Epoch 76/100\n",
            "140/140 [==============================] - 0s 531us/step - loss: 0.1781 - accuracy: 0.9275 - val_loss: 0.1965 - val_accuracy: 0.9246\n",
            "Epoch 77/100\n",
            "140/140 [==============================] - 0s 534us/step - loss: 0.1827 - accuracy: 0.9264 - val_loss: 0.1926 - val_accuracy: 0.9228\n",
            "Epoch 78/100\n",
            "140/140 [==============================] - 0s 525us/step - loss: 0.1778 - accuracy: 0.9270 - val_loss: 0.2065 - val_accuracy: 0.9165\n",
            "Epoch 79/100\n",
            "140/140 [==============================] - 0s 529us/step - loss: 0.1759 - accuracy: 0.9279 - val_loss: 0.2039 - val_accuracy: 0.9255\n",
            "Epoch 80/100\n",
            "140/140 [==============================] - 0s 530us/step - loss: 0.1786 - accuracy: 0.9284 - val_loss: 0.1973 - val_accuracy: 0.9165\n",
            "Epoch 81/100\n",
            "140/140 [==============================] - 0s 533us/step - loss: 0.1781 - accuracy: 0.9284 - val_loss: 0.1846 - val_accuracy: 0.9255\n",
            "Epoch 82/100\n",
            "140/140 [==============================] - 0s 529us/step - loss: 0.1742 - accuracy: 0.9264 - val_loss: 0.2029 - val_accuracy: 0.9228\n",
            "Epoch 83/100\n",
            "140/140 [==============================] - 0s 528us/step - loss: 0.1754 - accuracy: 0.9320 - val_loss: 0.1917 - val_accuracy: 0.9264\n",
            "Epoch 84/100\n",
            "140/140 [==============================] - 0s 545us/step - loss: 0.1735 - accuracy: 0.9320 - val_loss: 0.1860 - val_accuracy: 0.9291\n",
            "Epoch 85/100\n",
            "140/140 [==============================] - 0s 676us/step - loss: 0.1732 - accuracy: 0.9324 - val_loss: 0.1889 - val_accuracy: 0.9264\n",
            "Epoch 86/100\n",
            "140/140 [==============================] - 0s 539us/step - loss: 0.1698 - accuracy: 0.9333 - val_loss: 0.1969 - val_accuracy: 0.9246\n",
            "Epoch 87/100\n",
            "140/140 [==============================] - 0s 529us/step - loss: 0.1744 - accuracy: 0.9311 - val_loss: 0.1941 - val_accuracy: 0.9300\n",
            "Epoch 88/100\n",
            "140/140 [==============================] - 0s 521us/step - loss: 0.1759 - accuracy: 0.9335 - val_loss: 0.1982 - val_accuracy: 0.9165\n",
            "Epoch 89/100\n",
            "140/140 [==============================] - 0s 540us/step - loss: 0.1718 - accuracy: 0.9340 - val_loss: 0.1993 - val_accuracy: 0.9192\n",
            "Epoch 90/100\n",
            "140/140 [==============================] - 0s 518us/step - loss: 0.1760 - accuracy: 0.9297 - val_loss: 0.1852 - val_accuracy: 0.9300\n",
            "Epoch 91/100\n",
            "140/140 [==============================] - 0s 530us/step - loss: 0.1733 - accuracy: 0.9304 - val_loss: 0.1955 - val_accuracy: 0.9192\n",
            "Epoch 92/100\n",
            "140/140 [==============================] - 0s 530us/step - loss: 0.1719 - accuracy: 0.9300 - val_loss: 0.1825 - val_accuracy: 0.9228\n",
            "Epoch 93/100\n",
            "140/140 [==============================] - 0s 532us/step - loss: 0.1690 - accuracy: 0.9326 - val_loss: 0.1934 - val_accuracy: 0.9192\n",
            "Epoch 94/100\n",
            "140/140 [==============================] - 0s 536us/step - loss: 0.1694 - accuracy: 0.9320 - val_loss: 0.1851 - val_accuracy: 0.9237\n",
            "Epoch 95/100\n",
            "140/140 [==============================] - 0s 525us/step - loss: 0.1687 - accuracy: 0.9347 - val_loss: 0.1798 - val_accuracy: 0.9354\n",
            "Epoch 96/100\n",
            "140/140 [==============================] - 0s 538us/step - loss: 0.1640 - accuracy: 0.9351 - val_loss: 0.1939 - val_accuracy: 0.9255\n",
            "Epoch 97/100\n",
            "140/140 [==============================] - 0s 543us/step - loss: 0.1748 - accuracy: 0.9313 - val_loss: 0.1869 - val_accuracy: 0.9246\n",
            "Epoch 98/100\n",
            "140/140 [==============================] - 0s 541us/step - loss: 0.1674 - accuracy: 0.9317 - val_loss: 0.1747 - val_accuracy: 0.9309\n",
            "Epoch 99/100\n",
            "140/140 [==============================] - 0s 536us/step - loss: 0.1727 - accuracy: 0.9302 - val_loss: 0.1827 - val_accuracy: 0.9237\n",
            "Epoch 100/100\n",
            "140/140 [==============================] - 0s 530us/step - loss: 0.1662 - accuracy: 0.9342 - val_loss: 0.1781 - val_accuracy: 0.9336\n",
            "44/44 [==============================] - 0s 362us/step - loss: 0.1826 - accuracy: 0.9368\n",
            "Test Accuracy: 93.68%\n"
          ]
        }
      ],
      "source": [
        "#Contrastaremos la perfomance del Perceptron respecto a una Red Neuronal\n",
        "from tensorflow.keras.models import Sequential\n",
        "from tensorflow.keras.layers import Dense\n",
        "from tensorflow.keras.optimizers import Adam\n",
        "\n",
        "# Definir la arquitectura de la red neuronal\n",
        "# Este es un modelo lineal de Keras que se compone de una pila de capas\n",
        "# Se llama así porque permite crear modelos capa por capa en secuencia\n",
        "model = Sequential([\n",
        "    Dense(64, activation='relu', input_shape=(2,)),              # Capa oculta completamente conectada con 64 neuronas y función de activación ReLU\n",
        "    Dense(32, activation='relu'),                                # Otra capa oculta completamente conectada con 32 neuronas\n",
        "    Dense(1, activation='sigmoid')                               # Capa de salida con una neurona y activación sigmoidal\n",
        "])\n",
        "\n",
        "# Compilar el modelo (Prepara el modelo para el entrenamiento)\n",
        "model.compile(optimizer=Adam(learning_rate=0.001),  # Optimizador Adam. Optimizador popular que ajusta los pesos de la red durante el entrenamiento\n",
        "              loss='binary_crossentropy',           # Función de pérdida para clasificación binaria\n",
        "              metrics=['accuracy'])                 # Se utiliza la 'accuracy' como métrica para monitorizar el rendimiento del modelo durante el entrenamiento\n",
        "\n",
        "# Proporciona un resumen de la arquitectura del modelo\n",
        "# mostrando cada capa, su tipo, la forma de salida y el número de parámetros\n",
        "model.summary()\n",
        "\n",
        "# Entrenar el modelo con los datos proporcionados\n",
        "# el modelo se entrena con el conjunto de entrenamiento (X_train, y_train) durante 100 épocas\n",
        "# validation_split significa los datos de entrenamiento se utilizará para validar el modelo\n",
        "history = model.fit(X_train, y_train, epochs=100, validation_split=0.2)\n",
        "\n",
        "# Evaluar el rendimiento del modelo en el conjunto de prueba\n",
        "loss, accuracy = model.evaluate(X_test, y_test)\n",
        "print(f'Test Accuracy: {accuracy * 100:.2f}%')\n"
      ]
    },
    {
      "cell_type": "code",
      "execution_count": 28,
      "metadata": {
        "id": "5tteVUCyX5JV"
      },
      "outputs": [],
      "source": [
        "# Conclusiones y evaluaciones\n",
        "#\n",
        "# Luego de realizar 2 modelos distintos para el mismo conjunto de datos, se puede extraer la siguiente información.\n",
        "#\n",
        "# Accuracy Perceptron: 73.5632183908046%, Accuracy Red Neuronal: 93.03%\n",
        "#\n",
        "# Respecto al rendimiento La red neuronal supera significativamente al perceptrón.\n",
        "# Resultado esperado, ya que las redes neuronales son capaces de capturar relaciones no lineales y patrones más complejos en los datos,\n",
        "# mientras que un perceptrón simple solo puede modelar decisiones lineales.\n",
        "# Al ser limitada por esa linealidad, si los datos no son linealmente separables, el perceptrón nunca alcanzará una precisión del 100%.\n",
        "#\n",
        "# La notable diferencia en el rendimiento indica que el problema de clasificación puede ser demasiado complejo para ser manejado eficazmente por un modelo tan simple como el perceptrón.\n",
        "# Los sonidos de 'kick' y 'snare' pueden tener diferencias sutiles y características no lineales que solo un modelo más complejo puede capturar.\n",
        "#\n",
        "# Un modelo con un 94.18% de precisión es bastante firme, especialmente si consideramos que la clasificación de audio es una tarea compleja sujeta a muchas variaciones.\n",
        "# Por lo que la red neuronal muestra una mejor capacidad de generalización,\n",
        "# a pesar de ser más compleja, ha aprendido patrones generales en lugar de memorizar el conjunto de datos de entrenamiento.\n",
        "#\n",
        "# En conclusión, si bien el perceptrón ha mostrado ser capaz de aprender y generalizar desde los datos hasta cierto punto,\n",
        "# la red neuronal ha demostrado ser significativamente superior en este caso.\n",
        "# Esto refuerza la idea de que para problemas de clasificación más complejos,\n",
        "# las redes neuronales son a menudo la mejor opción debido a su flexibilidad y capacidad para modelar interacciones complejas en los datos."
      ]
    }
  ],
  "metadata": {
    "colab": {
      "provenance": []
    },
    "kernelspec": {
      "display_name": "Python 3",
      "name": "python3"
    },
    "language_info": {
      "codemirror_mode": {
        "name": "ipython",
        "version": 3
      },
      "file_extension": ".py",
      "mimetype": "text/x-python",
      "name": "python",
      "nbconvert_exporter": "python",
      "pygments_lexer": "ipython3",
      "version": "3.11.6"
    }
  },
  "nbformat": 4,
  "nbformat_minor": 0
}
