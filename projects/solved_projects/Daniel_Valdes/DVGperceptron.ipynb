{
  "cells": [
    {
      "cell_type": "markdown",
      "metadata": {
        "id": "jq_OOBaD54e0"
      },
      "source": [
        "## Parte 1 (de t-SNE.ipynb)\n",
        "\n",
        "1.   convertir audio a vector\n",
        "\n",
        "2.   reducir dimensiones\n",
        "\n",
        "Esta parte del código esta tal cual el archivo según se indica en el trabajo.\n",
        "Puede que haya añadido algunas líneas de código para yo mismo entender lo que estaba pasando y asegurar un correcto funcionamiento"
      ]
    },
    {
      "cell_type": "code",
      "execution_count": null,
      "metadata": {
        "id": "88CqZXoU7vXV"
      },
      "outputs": [],
      "source": [
        "#!pip install transformers         #instalamos biblioteca transformers"
      ]
    },
    {
      "cell_type": "code",
      "execution_count": 18,
      "metadata": {
        "id": "xxIOsi6k80a3"
      },
      "outputs": [],
      "source": [
        "import IPython.display as ipd\n",
        "from IPython.display import Audio\n",
        "import librosa\n",
        "import librosa.display\n",
        "import numpy as np\n",
        "import matplotlib.pyplot as plt\n",
        "import pathlib\n",
        "from pathlib import Path\n",
        "import sklearn\n",
        "from transformers import AutoFeatureExtractor #generador de características\n",
        "import os\n",
        "import seaborn as sns"
      ]
    },
    {
      "cell_type": "code",
      "execution_count": null,
      "metadata": {
        "id": "ufIDOIxVdLo2"
      },
      "outputs": [],
      "source": [
        "#!ls #revisamos listado del directorio actual"
      ]
    },
    {
      "cell_type": "code",
      "execution_count": 4,
      "metadata": {
        "id": "dyVSWHjH8_cR"
      },
      "outputs": [],
      "source": [
        "#os.chdir('drive/MyDrive/Machine Learning/perceptron_dataset') #cambiamos el directorio\n",
        "\n",
        "### Camino para encontrar los datos\n",
        "MyPath = pathlib.Path('/Users/rodolfolobocarrasco/Desktop/Audio_Machine_Learning/projects/project_1/solution/data')"
      ]
    },
    {
      "cell_type": "code",
      "execution_count": null,
      "metadata": {
        "id": "Vji24X-jfH1W"
      },
      "outputs": [],
      "source": [
        "#MyPath = pathlib.Path(\"/content/drive/MyDrive/Machine Learning/perceptron_dataset\")\n",
        "# if MyPath.exists() and MyPath.is_dir():\n",
        "#     print(\"La ruta es válida y el directorio existe.\")\n",
        "# else:\n",
        "#     print(\"La ruta no es válida o el directorio no existe.\")\n"
      ]
    },
    {
      "cell_type": "code",
      "execution_count": 6,
      "metadata": {
        "id": "2TiPWKou-gkX"
      },
      "outputs": [],
      "source": [
        "  sr = 16000   #frecuencia de muestreo"
      ]
    },
    {
      "cell_type": "markdown",
      "metadata": {
        "id": "SGQWIDvx6c9e"
      },
      "source": [
        "Cargando audios\n"
      ]
    },
    {
      "cell_type": "code",
      "execution_count": 7,
      "metadata": {
        "id": "YQvRi8Qt-mHe"
      },
      "outputs": [],
      "source": [
        "kick_signals = [                       #cargamos los archivos de audio y los discretizamos(?)\n",
        "    librosa.load(p, sr = sr)[0] for p in MyPath.glob('kick/Copia de Bass Sample *.wav')\n",
        "]\n",
        "\n",
        "snare_signals = [\n",
        "    librosa.load(p, sr = sr)[0] for p in MyPath.glob('snare/Copia de Snare Sample *.wav')\n",
        "]"
      ]
    },
    {
      "cell_type": "code",
      "execution_count": null,
      "metadata": {
        "id": "idKwUvvl7cMk"
      },
      "outputs": [],
      "source": [
        "kick_signals[0].shape                     #comprobando"
      ]
    },
    {
      "cell_type": "code",
      "execution_count": null,
      "metadata": {
        "id": "-sFJjkOG-5OP"
      },
      "outputs": [],
      "source": [
        "len(kick_signals) #chekeando que se hayan exportado los 40 audios"
      ]
    },
    {
      "cell_type": "code",
      "execution_count": null,
      "metadata": {
        "id": "LWS0vxgj7J3g"
      },
      "outputs": [],
      "source": [
        "audio = Audio(data = kick_signals[0],rate = sr) #[0-39] para poder escuchar los archivos\n",
        "display(audio)"
      ]
    },
    {
      "cell_type": "markdown",
      "metadata": {
        "id": "s2R_RLF59uej"
      },
      "source": [
        "caja negra\n"
      ]
    },
    {
      "cell_type": "code",
      "execution_count": null,
      "metadata": {
        "id": "IzWonrAq-_UW"
      },
      "outputs": [],
      "source": [
        "feature_extractor = AutoFeatureExtractor.from_pretrained(\"facebook/wav2vec2-base\")"
      ]
    },
    {
      "cell_type": "code",
      "execution_count": 12,
      "metadata": {
        "id": "FK7idw_VAGDK"
      },
      "outputs": [],
      "source": [
        "snare_inputs = feature_extractor(snare_signals, sampling_rate=sr, return_tensors=\"pt\")"
      ]
    },
    {
      "cell_type": "code",
      "execution_count": null,
      "metadata": {
        "id": "z_Sv13Vq9EZI"
      },
      "outputs": [],
      "source": [
        "snare_inputs[\"input_values\"].shape            #verificamos que los audios se hayan cargado correctamente"
      ]
    },
    {
      "cell_type": "code",
      "execution_count": 15,
      "metadata": {
        "id": "DfG8Tm0iAI9d"
      },
      "outputs": [],
      "source": [
        "kick_inputs = feature_extractor(kick_signals, sampling_rate=sr, return_tensors=\"pt\")"
      ]
    },
    {
      "cell_type": "markdown",
      "metadata": {
        "id": "q_dC0eMZ-R97"
      },
      "source": [
        "convierte todos los audios en una matriz que representa el conjunto de audios. la fila representa la cantidad de muestras (40 kick, 40 snare) y la cantidad de columnas tiene relación con la duración (d, en segundos) de cada audio; es decir (sr*d)"
      ]
    },
    {
      "cell_type": "code",
      "execution_count": null,
      "metadata": {
        "id": "4ZuCBaCqGJdR"
      },
      "outputs": [],
      "source": [
        "len(kick_inputs) #comprobamos que ahora nuestro conjunto se convirtió en una matriz por lo que la cantidad de elementos debe ser = a 1"
      ]
    },
    {
      "cell_type": "code",
      "execution_count": null,
      "metadata": {
        "id": "WXx1PsBHGSry"
      },
      "outputs": [],
      "source": [
        "kick_inputs['input_values'].shape   #dimensiones de la matriz"
      ]
    },
    {
      "cell_type": "markdown",
      "metadata": {
        "id": "aLKIJnbVGpXJ"
      },
      "source": [
        "\n",
        "Obteniendo los arreglos que contienen la información que el modelo consiguió extraer del audio\n"
      ]
    },
    {
      "cell_type": "code",
      "execution_count": 19,
      "metadata": {
        "id": "JCQ8RoOMGioU"
      },
      "outputs": [],
      "source": [
        "kick_embeddings = kick_inputs['input_values']"
      ]
    },
    {
      "cell_type": "code",
      "execution_count": 20,
      "metadata": {
        "id": "-aRo6tjjG0Xi"
      },
      "outputs": [],
      "source": [
        "snare_embeddings = snare_inputs['input_values']"
      ]
    },
    {
      "cell_type": "code",
      "execution_count": 21,
      "metadata": {
        "id": "Cs_qn9qHG4Bj"
      },
      "outputs": [],
      "source": [
        "import torch"
      ]
    },
    {
      "cell_type": "code",
      "execution_count": 22,
      "metadata": {
        "id": "Ey50EUaWG659"
      },
      "outputs": [],
      "source": [
        "X = torch.cat((kick_embeddings, snare_embeddings), 0) #se concatenan ambos vectores para formar el conjunto de entrada"
      ]
    },
    {
      "cell_type": "code",
      "execution_count": null,
      "metadata": {
        "id": "IhI2q9RsG9ei"
      },
      "outputs": [],
      "source": [
        "X.shape     #corroboramos las dimensiones"
      ]
    },
    {
      "cell_type": "markdown",
      "metadata": {
        "id": "4F4QjQK1HS5R"
      },
      "source": [
        "## 2. APLICAMOS t-SNE\n",
        "\n",
        "2.    para reducir dimensiones\n",
        "\n"
      ]
    },
    {
      "cell_type": "code",
      "execution_count": 24,
      "metadata": {
        "id": "sA2cGQkZG_pW"
      },
      "outputs": [],
      "source": [
        "from sklearn import manifold"
      ]
    },
    {
      "cell_type": "code",
      "execution_count": 25,
      "metadata": {
        "id": "XYNn9_ZuHUrN"
      },
      "outputs": [],
      "source": [
        "tsne = manifold.TSNE(n_components = 2, random_state = 42)"
      ]
    },
    {
      "cell_type": "code",
      "execution_count": 26,
      "metadata": {
        "id": "QKLd3QRgHYBS"
      },
      "outputs": [],
      "source": [
        "transformed_data = tsne.fit_transform(X)"
      ]
    },
    {
      "cell_type": "code",
      "execution_count": null,
      "metadata": {
        "id": "pHhJAs9WHZwI"
      },
      "outputs": [],
      "source": [
        "transformed_data.shape[1]"
      ]
    },
    {
      "cell_type": "code",
      "execution_count": null,
      "metadata": {
        "id": "sjE73yPJndjb"
      },
      "outputs": [],
      "source": [
        "X.shape"
      ]
    },
    {
      "cell_type": "code",
      "execution_count": 29,
      "metadata": {
        "id": "yZmUq4olHgS7"
      },
      "outputs": [],
      "source": [
        "import pandas as pd"
      ]
    },
    {
      "cell_type": "code",
      "execution_count": 30,
      "metadata": {
        "id": "SDWOiwxZHiJZ"
      },
      "outputs": [],
      "source": [
        "df_tsne = pd.DataFrame(transformed_data)\n",
        "df_tsne['targets'] = 40*[1] + 40*[0]"
      ]
    },
    {
      "cell_type": "code",
      "execution_count": null,
      "metadata": {
        "id": "rsUKlUiQ-i2T"
      },
      "outputs": [],
      "source": [
        "df_tsne['targets']"
      ]
    },
    {
      "cell_type": "code",
      "execution_count": 32,
      "metadata": {
        "id": "3ODLJLZ1Hnxz"
      },
      "outputs": [],
      "source": [
        "df_tsne.columns = ['x1','x2','targets']"
      ]
    },
    {
      "cell_type": "code",
      "execution_count": 33,
      "metadata": {
        "colab": {
          "base_uri": "https://localhost:8080/",
          "height": 423
        },
        "id": "gFuZ5z9RHrDe",
        "outputId": "bcca8fc5-2261-43f7-e9a1-f1677be62f18"
      },
      "outputs": [
        {
          "data": {
            "text/html": [
              "\n",
              "  <div id=\"df-4cb3beca-2897-4c20-9748-1dbcd606e272\" class=\"colab-df-container\">\n",
              "    <div>\n",
              "<style scoped>\n",
              "    .dataframe tbody tr th:only-of-type {\n",
              "        vertical-align: middle;\n",
              "    }\n",
              "\n",
              "    .dataframe tbody tr th {\n",
              "        vertical-align: top;\n",
              "    }\n",
              "\n",
              "    .dataframe thead th {\n",
              "        text-align: right;\n",
              "    }\n",
              "</style>\n",
              "<table border=\"1\" class=\"dataframe\">\n",
              "  <thead>\n",
              "    <tr style=\"text-align: right;\">\n",
              "      <th></th>\n",
              "      <th>x1</th>\n",
              "      <th>x2</th>\n",
              "      <th>targets</th>\n",
              "    </tr>\n",
              "  </thead>\n",
              "  <tbody>\n",
              "    <tr>\n",
              "      <th>0</th>\n",
              "      <td>6.085392</td>\n",
              "      <td>1.840192</td>\n",
              "      <td>1</td>\n",
              "    </tr>\n",
              "    <tr>\n",
              "      <th>1</th>\n",
              "      <td>5.218927</td>\n",
              "      <td>1.306673</td>\n",
              "      <td>1</td>\n",
              "    </tr>\n",
              "    <tr>\n",
              "      <th>2</th>\n",
              "      <td>-0.585032</td>\n",
              "      <td>-3.000730</td>\n",
              "      <td>1</td>\n",
              "    </tr>\n",
              "    <tr>\n",
              "      <th>3</th>\n",
              "      <td>3.585593</td>\n",
              "      <td>-1.677265</td>\n",
              "      <td>1</td>\n",
              "    </tr>\n",
              "    <tr>\n",
              "      <th>4</th>\n",
              "      <td>5.100288</td>\n",
              "      <td>1.647039</td>\n",
              "      <td>1</td>\n",
              "    </tr>\n",
              "    <tr>\n",
              "      <th>...</th>\n",
              "      <td>...</td>\n",
              "      <td>...</td>\n",
              "      <td>...</td>\n",
              "    </tr>\n",
              "    <tr>\n",
              "      <th>75</th>\n",
              "      <td>-3.322230</td>\n",
              "      <td>1.382697</td>\n",
              "      <td>0</td>\n",
              "    </tr>\n",
              "    <tr>\n",
              "      <th>76</th>\n",
              "      <td>-4.137670</td>\n",
              "      <td>-0.354485</td>\n",
              "      <td>0</td>\n",
              "    </tr>\n",
              "    <tr>\n",
              "      <th>77</th>\n",
              "      <td>-2.077505</td>\n",
              "      <td>0.394700</td>\n",
              "      <td>0</td>\n",
              "    </tr>\n",
              "    <tr>\n",
              "      <th>78</th>\n",
              "      <td>-2.602193</td>\n",
              "      <td>1.723334</td>\n",
              "      <td>0</td>\n",
              "    </tr>\n",
              "    <tr>\n",
              "      <th>79</th>\n",
              "      <td>-1.699998</td>\n",
              "      <td>2.015516</td>\n",
              "      <td>0</td>\n",
              "    </tr>\n",
              "  </tbody>\n",
              "</table>\n",
              "<p>80 rows × 3 columns</p>\n",
              "</div>\n",
              "    <div class=\"colab-df-buttons\">\n",
              "\n",
              "  <div class=\"colab-df-container\">\n",
              "    <button class=\"colab-df-convert\" onclick=\"convertToInteractive('df-4cb3beca-2897-4c20-9748-1dbcd606e272')\"\n",
              "            title=\"Convert this dataframe to an interactive table.\"\n",
              "            style=\"display:none;\">\n",
              "\n",
              "  <svg xmlns=\"http://www.w3.org/2000/svg\" height=\"24px\" viewBox=\"0 -960 960 960\">\n",
              "    <path d=\"M120-120v-720h720v720H120Zm60-500h600v-160H180v160Zm220 220h160v-160H400v160Zm0 220h160v-160H400v160ZM180-400h160v-160H180v160Zm440 0h160v-160H620v160ZM180-180h160v-160H180v160Zm440 0h160v-160H620v160Z\"/>\n",
              "  </svg>\n",
              "    </button>\n",
              "\n",
              "  <style>\n",
              "    .colab-df-container {\n",
              "      display:flex;\n",
              "      gap: 12px;\n",
              "    }\n",
              "\n",
              "    .colab-df-convert {\n",
              "      background-color: #E8F0FE;\n",
              "      border: none;\n",
              "      border-radius: 50%;\n",
              "      cursor: pointer;\n",
              "      display: none;\n",
              "      fill: #1967D2;\n",
              "      height: 32px;\n",
              "      padding: 0 0 0 0;\n",
              "      width: 32px;\n",
              "    }\n",
              "\n",
              "    .colab-df-convert:hover {\n",
              "      background-color: #E2EBFA;\n",
              "      box-shadow: 0px 1px 2px rgba(60, 64, 67, 0.3), 0px 1px 3px 1px rgba(60, 64, 67, 0.15);\n",
              "      fill: #174EA6;\n",
              "    }\n",
              "\n",
              "    .colab-df-buttons div {\n",
              "      margin-bottom: 4px;\n",
              "    }\n",
              "\n",
              "    [theme=dark] .colab-df-convert {\n",
              "      background-color: #3B4455;\n",
              "      fill: #D2E3FC;\n",
              "    }\n",
              "\n",
              "    [theme=dark] .colab-df-convert:hover {\n",
              "      background-color: #434B5C;\n",
              "      box-shadow: 0px 1px 3px 1px rgba(0, 0, 0, 0.15);\n",
              "      filter: drop-shadow(0px 1px 2px rgba(0, 0, 0, 0.3));\n",
              "      fill: #FFFFFF;\n",
              "    }\n",
              "  </style>\n",
              "\n",
              "    <script>\n",
              "      const buttonEl =\n",
              "        document.querySelector('#df-4cb3beca-2897-4c20-9748-1dbcd606e272 button.colab-df-convert');\n",
              "      buttonEl.style.display =\n",
              "        google.colab.kernel.accessAllowed ? 'block' : 'none';\n",
              "\n",
              "      async function convertToInteractive(key) {\n",
              "        const element = document.querySelector('#df-4cb3beca-2897-4c20-9748-1dbcd606e272');\n",
              "        const dataTable =\n",
              "          await google.colab.kernel.invokeFunction('convertToInteractive',\n",
              "                                                    [key], {});\n",
              "        if (!dataTable) return;\n",
              "\n",
              "        const docLinkHtml = 'Like what you see? Visit the ' +\n",
              "          '<a target=\"_blank\" href=https://colab.research.google.com/notebooks/data_table.ipynb>data table notebook</a>'\n",
              "          + ' to learn more about interactive tables.';\n",
              "        element.innerHTML = '';\n",
              "        dataTable['output_type'] = 'display_data';\n",
              "        await google.colab.output.renderOutput(dataTable, element);\n",
              "        const docLink = document.createElement('div');\n",
              "        docLink.innerHTML = docLinkHtml;\n",
              "        element.appendChild(docLink);\n",
              "      }\n",
              "    </script>\n",
              "  </div>\n",
              "\n",
              "\n",
              "<div id=\"df-24d26e4b-f098-488a-aa7d-5b2efc073861\">\n",
              "  <button class=\"colab-df-quickchart\" onclick=\"quickchart('df-24d26e4b-f098-488a-aa7d-5b2efc073861')\"\n",
              "            title=\"Suggest charts\"\n",
              "            style=\"display:none;\">\n",
              "\n",
              "<svg xmlns=\"http://www.w3.org/2000/svg\" height=\"24px\"viewBox=\"0 0 24 24\"\n",
              "     width=\"24px\">\n",
              "    <g>\n",
              "        <path d=\"M19 3H5c-1.1 0-2 .9-2 2v14c0 1.1.9 2 2 2h14c1.1 0 2-.9 2-2V5c0-1.1-.9-2-2-2zM9 17H7v-7h2v7zm4 0h-2V7h2v10zm4 0h-2v-4h2v4z\"/>\n",
              "    </g>\n",
              "</svg>\n",
              "  </button>\n",
              "\n",
              "<style>\n",
              "  .colab-df-quickchart {\n",
              "      --bg-color: #E8F0FE;\n",
              "      --fill-color: #1967D2;\n",
              "      --hover-bg-color: #E2EBFA;\n",
              "      --hover-fill-color: #174EA6;\n",
              "      --disabled-fill-color: #AAA;\n",
              "      --disabled-bg-color: #DDD;\n",
              "  }\n",
              "\n",
              "  [theme=dark] .colab-df-quickchart {\n",
              "      --bg-color: #3B4455;\n",
              "      --fill-color: #D2E3FC;\n",
              "      --hover-bg-color: #434B5C;\n",
              "      --hover-fill-color: #FFFFFF;\n",
              "      --disabled-bg-color: #3B4455;\n",
              "      --disabled-fill-color: #666;\n",
              "  }\n",
              "\n",
              "  .colab-df-quickchart {\n",
              "    background-color: var(--bg-color);\n",
              "    border: none;\n",
              "    border-radius: 50%;\n",
              "    cursor: pointer;\n",
              "    display: none;\n",
              "    fill: var(--fill-color);\n",
              "    height: 32px;\n",
              "    padding: 0;\n",
              "    width: 32px;\n",
              "  }\n",
              "\n",
              "  .colab-df-quickchart:hover {\n",
              "    background-color: var(--hover-bg-color);\n",
              "    box-shadow: 0 1px 2px rgba(60, 64, 67, 0.3), 0 1px 3px 1px rgba(60, 64, 67, 0.15);\n",
              "    fill: var(--button-hover-fill-color);\n",
              "  }\n",
              "\n",
              "  .colab-df-quickchart-complete:disabled,\n",
              "  .colab-df-quickchart-complete:disabled:hover {\n",
              "    background-color: var(--disabled-bg-color);\n",
              "    fill: var(--disabled-fill-color);\n",
              "    box-shadow: none;\n",
              "  }\n",
              "\n",
              "  .colab-df-spinner {\n",
              "    border: 2px solid var(--fill-color);\n",
              "    border-color: transparent;\n",
              "    border-bottom-color: var(--fill-color);\n",
              "    animation:\n",
              "      spin 1s steps(1) infinite;\n",
              "  }\n",
              "\n",
              "  @keyframes spin {\n",
              "    0% {\n",
              "      border-color: transparent;\n",
              "      border-bottom-color: var(--fill-color);\n",
              "      border-left-color: var(--fill-color);\n",
              "    }\n",
              "    20% {\n",
              "      border-color: transparent;\n",
              "      border-left-color: var(--fill-color);\n",
              "      border-top-color: var(--fill-color);\n",
              "    }\n",
              "    30% {\n",
              "      border-color: transparent;\n",
              "      border-left-color: var(--fill-color);\n",
              "      border-top-color: var(--fill-color);\n",
              "      border-right-color: var(--fill-color);\n",
              "    }\n",
              "    40% {\n",
              "      border-color: transparent;\n",
              "      border-right-color: var(--fill-color);\n",
              "      border-top-color: var(--fill-color);\n",
              "    }\n",
              "    60% {\n",
              "      border-color: transparent;\n",
              "      border-right-color: var(--fill-color);\n",
              "    }\n",
              "    80% {\n",
              "      border-color: transparent;\n",
              "      border-right-color: var(--fill-color);\n",
              "      border-bottom-color: var(--fill-color);\n",
              "    }\n",
              "    90% {\n",
              "      border-color: transparent;\n",
              "      border-bottom-color: var(--fill-color);\n",
              "    }\n",
              "  }\n",
              "</style>\n",
              "\n",
              "  <script>\n",
              "    async function quickchart(key) {\n",
              "      const quickchartButtonEl =\n",
              "        document.querySelector('#' + key + ' button');\n",
              "      quickchartButtonEl.disabled = true;  // To prevent multiple clicks.\n",
              "      quickchartButtonEl.classList.add('colab-df-spinner');\n",
              "      try {\n",
              "        const charts = await google.colab.kernel.invokeFunction(\n",
              "            'suggestCharts', [key], {});\n",
              "      } catch (error) {\n",
              "        console.error('Error during call to suggestCharts:', error);\n",
              "      }\n",
              "      quickchartButtonEl.classList.remove('colab-df-spinner');\n",
              "      quickchartButtonEl.classList.add('colab-df-quickchart-complete');\n",
              "    }\n",
              "    (() => {\n",
              "      let quickchartButtonEl =\n",
              "        document.querySelector('#df-24d26e4b-f098-488a-aa7d-5b2efc073861 button');\n",
              "      quickchartButtonEl.style.display =\n",
              "        google.colab.kernel.accessAllowed ? 'block' : 'none';\n",
              "    })();\n",
              "  </script>\n",
              "</div>\n",
              "    </div>\n",
              "  </div>\n"
            ],
            "text/plain": [
              "          x1        x2  targets\n",
              "0   6.085392  1.840192        1\n",
              "1   5.218927  1.306673        1\n",
              "2  -0.585032 -3.000730        1\n",
              "3   3.585593 -1.677265        1\n",
              "4   5.100288  1.647039        1\n",
              "..       ...       ...      ...\n",
              "75 -3.322230  1.382697        0\n",
              "76 -4.137670 -0.354485        0\n",
              "77 -2.077505  0.394700        0\n",
              "78 -2.602193  1.723334        0\n",
              "79 -1.699998  2.015516        0\n",
              "\n",
              "[80 rows x 3 columns]"
            ]
          },
          "execution_count": 33,
          "metadata": {},
          "output_type": "execute_result"
        }
      ],
      "source": [
        "df_tsne"
      ]
    },
    {
      "cell_type": "markdown",
      "metadata": {},
      "source": [
        "### ¿Qué significa este gráfico?"
      ]
    },
    {
      "cell_type": "code",
      "execution_count": 34,
      "metadata": {
        "colab": {
          "base_uri": "https://localhost:8080/",
          "height": 324
        },
        "id": "8A-otmNFICDC",
        "outputId": "509764e7-c02e-472d-cc2a-21654dfe4ff1"
      },
      "outputs": [
        {
          "data": {
            "text/plain": [
              "<seaborn.axisgrid.FacetGrid at 0x7cfcc1752bf0>"
            ]
          },
          "execution_count": 34,
          "metadata": {},
          "output_type": "execute_result"
        },
        {
          "data": {
            "image/png": "[encoded data removed]",
            "text/plain": [
              "<Figure size 360.736x300 with 1 Axes>"
            ]
          },
          "metadata": {},
          "output_type": "display_data"
        }
      ],
      "source": [
        "grid = sns.FacetGrid(df_tsne,hue = \"targets\")\n",
        "grid.map(plt.scatter,\"x1\",\"x2\").add_legend()"
      ]
    },
    {
      "cell_type": "code",
      "execution_count": null,
      "metadata": {
        "id": "q6ciDq2KilHq"
      },
      "outputs": [],
      "source": [
        "df_tsne[[\"x1\", \"x2\"]].values"
      ]
    },
    {
      "cell_type": "code",
      "execution_count": null,
      "metadata": {
        "id": "iMeJYZ7PAVpb"
      },
      "outputs": [],
      "source": [
        "X.shape"
      ]
    },
    {
      "cell_type": "code",
      "execution_count": 61,
      "metadata": {
        "colab": {
          "base_uri": "https://localhost:8080/",
          "height": 582
        },
        "id": "kVOG4tk9NCjo",
        "outputId": "02950f21-cfd6-455a-c097-97536c86abd3"
      },
      "outputs": [
        {
          "name": "stdout",
          "output_type": "stream",
          "text": [
            "Precisión del modelo: 93.75%\n"
          ]
        },
        {
          "data": {
            "image/png": "[encoded data removed]",
            "text/plain": [
              "<Figure size 1000x600 with 1 Axes>"
            ]
          },
          "metadata": {},
          "output_type": "display_data"
        }
      ],
      "source": [
        "from sklearn.model_selection import train_test_split\n",
        "from sklearn.metrics import accuracy_score\n",
        "\n",
        "class PerceptronSigmoide:\n",
        "    \"\"\"\n",
        "        docs\n",
        "    \"\"\"\n",
        "    def __init__(self, learning_rate=0.01, epochs=1000):\n",
        "        self.learning_rate = learning_rate\n",
        "        self.epochs = epochs\n",
        "\n",
        "    ### Faltó implementar la regla de actualización: esta dentro de train\n",
        "    def backwards(self):\n",
        "        pass\n",
        "    ### Faltó implementar la evaluación (?)\n",
        "    def evaluate(self):\n",
        "        pass\n",
        "    \n",
        "    def train(self, X, y):\n",
        "        \"\"\"\n",
        "            docs\n",
        "        \"\"\"\n",
        "        self.weights = np.zeros(X.shape[1])\n",
        "        self.bias = 0\n",
        "\n",
        "        ### ¿Por qué no generar el contador en este loop? #############################################\n",
        "        for _ in range(self.epochs):\n",
        "            for xi, target in zip(X, y):\n",
        "                prediction = self.predict(xi)\n",
        "                update = self.learning_rate * (target - prediction)              #actualizamos los pesos y los sesgos\n",
        "                self.weights += update * xi\n",
        "                self.bias += update\n",
        "\n",
        "    def sigmoid(self, x):\n",
        "        \"\"\"\n",
        "            docs\n",
        "        \"\"\"\n",
        "        return 1 / (1 + np.exp(-x))\n",
        "\n",
        "    def predict(self, X):\n",
        "        \"\"\"\n",
        "            docs\n",
        "        \"\"\"\n",
        "        return self.sigmoid(np.dot(X, self.weights) + self.bias)            ### por què sigmoide?\n",
        "\n",
        "# Crear una instancia del Perceptron\n",
        "perceptron_1 = PerceptronSigmoide(learning_rate=0.1, epochs=1000)\n",
        "\n",
        "# Asignar los vectores 2D y las etiquetas al conjunto de datos\n",
        "X = transformed_data\n",
        "y = df_tsne['targets'].values\n",
        "\n",
        "# Dividir el conjunto de datos en conjuntos de entrenamiento y prueba\n",
        "X_train, X_test, y_train, y_test = train_test_split(X, y, test_size=0.2, random_state=42)\n",
        "\n",
        "# Entrenar el perceptrón\n",
        "perceptron_1.train(X_train, y_train)                                             #entregamos el conjunto de entrenamiento al metodo train de la clase\n",
        "\n",
        "# Hacer predicciones en el conjunto de prueba\n",
        "predictions = np.array([1 if perceptron_1.predict(xi) > 0.5 else 0 for xi in X_test])  ### OBS: La regla de predict debe formar parte de la clase!\n",
        "\n",
        "# Calcular la precisión del modelo\n",
        "accuracy = accuracy_score(y_test, predictions)\n",
        "print(f\"Precisión del modelo: {accuracy * 100:.2f}%\")\n",
        "\n",
        "# Visualizar las predicciones en el espacio 2D\n",
        "df_test = pd.DataFrame(X_test, columns=['x1', 'x2'])\n",
        "df_test['predicted_targets'] = predictions\n",
        "\n",
        "# Graficar los resultados y la frontera de decisión con la función sigmoide\n",
        "plt.figure(figsize=(10, 6))\n",
        "sns.scatterplot(data=df_test, x='x1', y='x2', hue='predicted_targets', palette='Set2', s=100)\n",
        "\n",
        "# Visualizar la frontera de decisión (usando la función sigmoide)\n",
        "x_min, x_max = X[:, 0].min() - 1, X[:, 0].max() + 1\n",
        "y_min, y_max = X[:, 1].min() - 1, X[:, 1].max() + 1\n",
        "\n",
        "# Crear una malla de puntos\n",
        "xx, yy = np.meshgrid(np.linspace(x_min, x_max, 100), np.linspace(y_min, y_max, 100))\n",
        "X_mesh = np.c_[xx.ravel(), yy.ravel()]\n",
        "\n",
        "# Calcular las probabilidades en la malla usando la función sigmoide\n",
        "Z = perceptron_1.sigmoid(np.dot(X_mesh, perceptron_1.weights) + perceptron_1.bias)\n",
        "Z = Z.reshape(xx.shape)\n",
        "\n",
        "# Graficar la frontera de decisión\n",
        "plt.contour(xx, yy, Z, levels=[0.5], colors='black', linestyles='dashed', linewidths=2)\n",
        "\n",
        "plt.title(\"Frontera de Decisión del Perceptrón con funcion sigmoide\")\n",
        "plt.show()\n"
      ]
    },
    {
      "cell_type": "code",
      "execution_count": 64,
      "metadata": {
        "colab": {
          "base_uri": "https://localhost:8080/",
          "height": 582
        },
        "id": "t60SwxEqocyE",
        "outputId": "baf3479a-9627-4084-8cb8-1263173e8d5a"
      },
      "outputs": [
        {
          "name": "stdout",
          "output_type": "stream",
          "text": [
            "Precisión del perceptrón: 93.75%\n"
          ]
        },
        {
          "data": {
            "image/png": "[encoded data removed]",
            "text/plain": [
              "<Figure size 1000x600 with 1 Axes>"
            ]
          },
          "metadata": {},
          "output_type": "display_data"
        }
      ],
      "source": [
        " class PerceptronStep1:\n",
        "    def __init__(self, learning_rate=0.01, epochs=1000):\n",
        "        self.learning_rate = learning_rate\n",
        "        self.epochs = epochs\n",
        "        self.weights = None\n",
        "        self.bias = None\n",
        "\n",
        "    def _initialize_weights(self, num_features):\n",
        "        # Inicializa los pesos y sesgo con ceros al principio\n",
        "        self.weights = np.zeros(num_features)\n",
        "        self.bias = 0\n",
        "\n",
        "    ### esto está mejor #####################################\n",
        "    def _step_function(self, x):\n",
        "        # Función de paso simple: devuelve 1 si x es mayor o igual a cero, 0 de lo contrario\n",
        "        return 1 if x >= 0 else 0\n",
        "\n",
        "    def _predict(self, X):\n",
        "        # Predice la clase para cada entrada en X usando la función de paso\n",
        "        return np.array([self._step_function(np.dot(self.weights, x) + self.bias) for x in X])  ### explicar esto!\n",
        "\n",
        "    def fit(self, X, y):\n",
        "        num_features = X.shape[1]\n",
        "        self._initialize_weights(num_features)\n",
        "\n",
        "        # Ciclo de entrenamiento (épocas)\n",
        "        for epoch in range(self.epochs):\n",
        "            # Ciclo a través de cada entrada de entrenamiento\n",
        "            for xi, yi in zip(X, y):                                ### para qué sirve zip()\n",
        "                # Realiza la predicción usando la función de paso\n",
        "                prediction = self._step_function(np.dot(xi, self.weights) + self.bias)\n",
        "\n",
        "                #### esto deberia ser parte del backwards\n",
        "                # Actualiza los pesos y el sesgo basado en el error\n",
        "                self.weights += self.learning_rate * (yi - prediction) * xi\n",
        "                self.bias += self.learning_rate * (yi - prediction)\n",
        "\n",
        "    def predict(self, X):\n",
        "        # Predice la clase para cada entrada en X usando la función de paso\n",
        "        return self._predict(X)\n",
        "\n",
        "# Crear etiquetas para los datos (1 para kick, 0 para snare)\n",
        "labels = np.concatenate([np.ones(40), np.zeros(40)])\n",
        "\n",
        "# Dividir los datos en conjuntos de entrenamiento y prueba\n",
        "X_train, X_test, y_train, y_test = train_test_split(transformed_data, labels, test_size=0.2, random_state=42)\n",
        "\n",
        "# Inicializar el perceptrón\n",
        "perceptron_2 =  PerceptronStep1()\n",
        "\n",
        "# Entrenar el perceptrón\n",
        "perceptron_2.fit(X_train, y_train)\n",
        "\n",
        "# Realizar predicciones en el conjunto de prueba\n",
        "y_pred = perceptron_2.predict(X_test)\n",
        "\n",
        "# Calcular la precisión del perceptrón\n",
        "accuracy = accuracy_score(y_test, y_pred)\n",
        "print(f\"Precisión del perceptrón: {accuracy * 100:.2f}%\")\n",
        "\n",
        "# Visualizar la frontera de decisión del perceptrón\n",
        "plt.figure(figsize=(10, 6))\n",
        "scatter = plt.scatter(X_test[:, 0], X_test[:, 1], c=y_test, cmap=plt.cm.Paired, edgecolor='k', s=20)\n",
        "plt.title('Frontera de Decisión del Perceptrón con función de paso simple')\n",
        "plt.xlabel('x1')\n",
        "plt.ylabel('x2')\n",
        "\n",
        "# Crear la línea de decisión\n",
        "ax = plt.gca()\n",
        "xlim = ax.get_xlim()\n",
        "ylim = ax.get_ylim()\n",
        "\n",
        "# Crear una cuadrícula para evaluar el modelo\n",
        "xx, yy = np.meshgrid(np.linspace(xlim[0], xlim[1], 100),\n",
        "                     np.linspace(ylim[0], ylim[1], 100))\n",
        "Z = perceptron_2._predict(np.c_[xx.ravel(), yy.ravel()])\n",
        "Z = Z.reshape(xx.shape)\n",
        "\n",
        "# Visualizar la línea de decisión y los márgenes\n",
        "ax.contour(xx, yy, Z, levels=[0], linewidths=2, colors='red')\n",
        "ax.contour(xx, yy, Z + 1, levels=[0], linewidths=1, linestyles='dashed', colors='gray')\n",
        "ax.contour(xx, yy, Z - 1, levels=[0], linewidths=1, linestyles='dashed', colors='gray')\n",
        "\n",
        "# Agregar leyenda para la Frontera de Decisión\n",
        "ax.legend(['Decision Boundary'], loc='upper right')\n",
        "\n",
        "# Agregar leyendas para las clases\n",
        "legend_labels = ['Class 0', 'Class 1']\n",
        "handles = [plt.Line2D([0], [0], marker='o', color='w', label=label, markerfacecolor=color, markersize=8)\n",
        "           for label, color in zip(legend_labels, scatter.get_cmap()(np.unique(y_test)))]  # Colores de ambas clases\n",
        "ax.legend(handles=handles, title='Clases', loc='lower right')\n",
        "\n",
        "plt.show()\n"
      ]
    },
    {
      "cell_type": "code",
      "execution_count": 65,
      "metadata": {
        "colab": {
          "base_uri": "https://localhost:8080/",
          "height": 617
        },
        "id": "J5qcmO69qkv8",
        "outputId": "13245347-1682-45cc-cee3-22de9845f0f4"
      },
      "outputs": [
        {
          "name": "stdout",
          "output_type": "stream",
          "text": [
            "Precisión del modelo: 81.25%\n"
          ]
        },
        {
          "data": {
            "image/png": "[encoded data removed]",
            "text/plain": [
              "<Figure size 1000x600 with 1 Axes>"
            ]
          },
          "metadata": {},
          "output_type": "display_data"
        },
        {
          "name": "stdout",
          "output_type": "stream",
          "text": [
            "Pesos sinápticos: [1.0610684  0.18580872]\n",
            "Sesgo: -0.09999999999999998\n"
          ]
        }
      ],
      "source": [
        "class PerceptronStep2:\n",
        "    def __init__(self, learning_rate=0.01, epochs=1000):\n",
        "        self.learning_rate = learning_rate\n",
        "        self.epochs = epochs\n",
        "\n",
        "    def train(self, X, y):\n",
        "      #inicializamos los pesos y el sesgo\n",
        "        self.weights = np.zeros(2)\n",
        "        self.bias = 0\n",
        "\n",
        "        for _ in range(self.epochs):\n",
        "            for xi, target in zip(X, y):\n",
        "                prediction = self.predict(xi)\n",
        "                update = self.learning_rate * (target - prediction)\n",
        "                self.weights += update * xi\n",
        "                self.bias += update\n",
        "\n",
        "    def predict(self, X):\n",
        "        return 1 if (np.dot(X, self.weights) + self.bias) > 0 else 0\n",
        "\n",
        "# Crear una instancia del Perceptron\n",
        "perceptron_3 = PerceptronStep2(learning_rate=0.1, epochs=1000)\n",
        "\n",
        "# Asignar los vectores 2D y las etiquetas al conjunto de datos\n",
        "X = transformed_data\n",
        "y = df_tsne['targets'].values\n",
        "\n",
        "# Dividir el conjunto de datos en conjuntos de entrenamiento y prueba\n",
        "X_train, X_test, y_train, y_test = train_test_split(X, y, test_size=0.2, random_state=42)\n",
        "\n",
        "# Entrenar el perceptrón\n",
        "perceptron_3.train(X_train, y_train)\n",
        "\n",
        "# Hacer predicciones en el conjunto de prueba\n",
        "predictions = np.array([perceptron_3.predict(xi) for xi in X_test])\n",
        "\n",
        "# Calcular la precisión del modelo\n",
        "accuracy = accuracy_score(y_test, predictions)\n",
        "print(f\"Precisión del modelo: {accuracy * 100:.2f}%\")\n",
        "\n",
        "# Visualizar las predicciones en el espacio 2D\n",
        "df_test = pd.DataFrame(X_test, columns=['x1', 'x2'])\n",
        "df_test['predicted_targets'] = predictions\n",
        "df_test['predicted_targets'] = df_test['predicted_targets'].astype('category')\n",
        "\n",
        "# Graficar los resultados y la frontera de decisión\n",
        "plt.figure(figsize=(10, 6))\n",
        "scatter_plot = sns.scatterplot(data=df_test, x='x1', y='x2', hue='predicted_targets', palette='Set2', s=100)\n",
        "\n",
        "# Visualizar la frontera de decisión\n",
        "x_min, x_max = X[:, 0].min() - 1, X[:, 0].max() + 1\n",
        "y_min, y_max = X[:, 1].min() - 1, X[:, 1].max() + 1\n",
        "xx, yy = np.meshgrid(np.arange(x_min, x_max, 0.01), np.arange(y_min, y_max, 0.01))\n",
        "Z = np.array([perceptron.predict(xi) for xi in np.c_[xx.ravel(), yy.ravel()]])\n",
        "Z = Z.reshape(xx.shape)\n",
        "plt.contourf(xx, yy, Z, alpha=0.3, cmap='Set2')\n",
        "\n",
        "plt.title(\"Frontera de Decisión del Perceptrón con variante de funcion de paso simple\")\n",
        "plt.show()\n",
        "\n",
        "# Mostrar pesos sinápticos y sesgo\n",
        "print(f\"Pesos sinápticos: {perceptron.weights}\")\n",
        "print(f\"Sesgo: {perceptron.bias}\")\n"
      ]
    },
    {
      "cell_type": "code",
      "execution_count": null,
      "metadata": {
        "id": "aWm8PFnSgeZz"
      },
      "outputs": [],
      "source": []
    }
  ],
  "metadata": {
    "colab": {
      "provenance": []
    },
    "kernelspec": {
      "display_name": "Python 3",
      "name": "python3"
    },
    "language_info": {
      "name": "python"
    }
  },
  "nbformat": 4,
  "nbformat_minor": 0
}
