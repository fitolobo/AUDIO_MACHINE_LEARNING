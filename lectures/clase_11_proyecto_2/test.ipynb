{
 "cells": [
  {
   "cell_type": "code",
   "execution_count": 10,
   "metadata": {},
   "outputs": [],
   "source": [
    "import librosa\n",
    "import pathlib\n",
    "from pathlib import Path\n",
    "import os\n",
    "import numpy as np "
   ]
  },
  {
   "cell_type": "markdown",
   "metadata": {},
   "source": [
    "Preprocesamiento"
   ]
  },
  {
   "cell_type": "code",
   "execution_count": 2,
   "metadata": {},
   "outputs": [],
   "source": [
    "main_path = os.getcwd()\n",
    "MyPath = pathlib.Path(main_path)"
   ]
  },
  {
   "cell_type": "code",
   "execution_count": 3,
   "metadata": {},
   "outputs": [],
   "source": [
    "sr = 8000\n",
    "kick_signals = [\n",
    "    librosa.load(p, sr = sr)[0] for p in MyPath.glob('data/kick/Copia de Bass Sample *.wav')\n",
    "]\n",
    "\n",
    "snare_signals = [\n",
    "    librosa.load(p, sr = sr)[0] for p in MyPath.glob('data/snare/Copia de Snare Sample *.wav')\n",
    "]"
   ]
  },
  {
   "cell_type": "code",
   "execution_count": 4,
   "metadata": {},
   "outputs": [
    {
     "data": {
      "text/plain": [
       "40"
      ]
     },
     "execution_count": 4,
     "metadata": {},
     "output_type": "execute_result"
    }
   ],
   "source": [
    "len(kick_signals)"
   ]
  },
  {
   "cell_type": "code",
   "execution_count": 5,
   "metadata": {},
   "outputs": [
    {
     "data": {
      "text/plain": [
       "array([-2.6417844e-04,  8.1657385e-03,  3.7222814e-02, ...,\n",
       "        7.4974168e-06,  7.3690271e-06,  1.5755152e-06], dtype=float32)"
      ]
     },
     "execution_count": 5,
     "metadata": {},
     "output_type": "execute_result"
    }
   ],
   "source": [
    "kick_signals[0]"
   ]
  },
  {
   "cell_type": "code",
   "execution_count": 9,
   "metadata": {},
   "outputs": [
    {
     "data": {
      "text/plain": [
       "16000"
      ]
     },
     "execution_count": 9,
     "metadata": {},
     "output_type": "execute_result"
    }
   ],
   "source": [
    "len(kick_signals[0])"
   ]
  },
  {
   "cell_type": "code",
   "execution_count": 7,
   "metadata": {},
   "outputs": [],
   "source": [
    "mel_spectrogram = librosa.feature.melspectrogram(y = kick_signals[0],sr=sr,n_fft = 2048, hop_length = 512, n_mels = 10)"
   ]
  },
  {
   "cell_type": "markdown",
   "metadata": {},
   "source": [
    "CNN 2D: representacion en escala de grises (tiene 1 canal)"
   ]
  },
  {
   "cell_type": "code",
   "execution_count": 8,
   "metadata": {},
   "outputs": [
    {
     "data": {
      "text/plain": [
       "(10, 32)"
      ]
     },
     "execution_count": 8,
     "metadata": {},
     "output_type": "execute_result"
    }
   ],
   "source": [
    "mel_spectrogram.shape"
   ]
  },
  {
   "cell_type": "code",
   "execution_count": 15,
   "metadata": {},
   "outputs": [
    {
     "data": {
      "text/plain": [
       "array([[7.57863998e+01, 5.83792305e+01, 9.56376457e+00, 1.51304185e+00,\n",
       "        3.69710714e-01, 1.42791748e-01, 6.97535425e-02, 3.55427079e-02,\n",
       "        2.11162549e-02, 1.25802588e-02, 7.49214459e-03, 4.63804603e-03,\n",
       "        2.92340666e-03, 1.86335330e-03, 1.18599168e-03, 7.04249367e-04,\n",
       "        3.90759436e-04, 2.29217214e-04, 1.10093606e-04, 5.24141215e-05,\n",
       "        2.98270825e-05, 1.57435024e-05, 7.16436807e-06, 4.63435708e-06,\n",
       "        2.92145387e-06, 2.07571520e-06, 1.39810891e-06, 8.83835128e-07,\n",
       "        5.34963249e-07, 3.67675483e-07, 2.93696786e-07, 1.26348482e-07],\n",
       "       [1.05946314e+00, 5.89180231e-01, 1.17063873e-01, 2.60549653e-02,\n",
       "        5.70048904e-03, 2.04701023e-03, 6.57930854e-04, 3.68067092e-04,\n",
       "        2.38951587e-04, 1.72035507e-04, 7.97427492e-05, 3.48747635e-05,\n",
       "        2.29975649e-05, 1.31811803e-05, 1.00689977e-05, 8.54767768e-06,\n",
       "        4.82551695e-06, 4.01184752e-06, 2.20318429e-06, 1.11879024e-06,\n",
       "        6.72041040e-07, 3.58184138e-07, 2.13000831e-07, 1.27824791e-07,\n",
       "        7.08872605e-08, 5.37350111e-08, 3.61202623e-08, 2.19734080e-08,\n",
       "        1.09420260e-08, 8.13680590e-09, 6.11442408e-09, 2.89979041e-09],\n",
       "       [2.50289530e-01, 1.66495234e-01, 4.15389724e-02, 9.76777729e-03,\n",
       "        2.43119779e-03, 6.23020402e-04, 2.26950040e-04, 9.21001701e-05,\n",
       "        5.82881039e-05, 3.62368119e-05, 1.70874282e-05, 9.95449864e-06,\n",
       "        5.67571897e-06, 3.10001064e-06, 2.28866816e-06, 1.77022821e-06,\n",
       "        8.78714388e-07, 6.87393026e-07, 4.52107543e-07, 3.31242489e-07,\n",
       "        1.88426043e-07, 1.13526788e-07, 7.13734423e-08, 4.08127505e-08,\n",
       "        2.19878427e-08, 1.63112954e-08, 1.23563559e-08, 9.08597109e-09,\n",
       "        5.55088464e-09, 3.49402485e-09, 2.55873411e-09, 9.62669389e-10],\n",
       "       [1.86036974e-01, 1.22168250e-01, 3.48009802e-02, 8.94197822e-03,\n",
       "        2.50941422e-03, 7.06151593e-04, 1.99342525e-04, 8.25507232e-05,\n",
       "        4.85998753e-05, 2.42290862e-05, 1.71808588e-05, 1.05362087e-05,\n",
       "        6.50149377e-06, 6.06023104e-06, 4.23018218e-06, 2.89695186e-06,\n",
       "        1.56208603e-06, 9.79223273e-07, 6.21947606e-07, 4.40844389e-07,\n",
       "        3.05025480e-07, 2.01602106e-07, 1.18528739e-07, 6.15920186e-08,\n",
       "        4.18757899e-08, 2.65166236e-08, 1.44636410e-08, 1.15697087e-08,\n",
       "        7.27369098e-09, 4.38506609e-09, 3.60091312e-09, 1.96114081e-09],\n",
       "       [1.17719710e-01, 7.36874714e-02, 2.11582780e-02, 4.83115390e-03,\n",
       "        1.38454780e-03, 4.17408766e-04, 1.24869315e-04, 5.94732883e-05,\n",
       "        2.97282586e-05, 1.76138237e-05, 1.36817171e-05, 9.66056268e-06,\n",
       "        5.94223548e-06, 4.28918429e-06, 3.34468291e-06, 2.48837091e-06,\n",
       "        1.50182029e-06, 8.98172573e-07, 5.12981899e-07, 4.25293194e-07,\n",
       "        3.19355649e-07, 2.05798770e-07, 1.06234324e-07, 5.30571960e-08,\n",
       "        3.88537345e-08, 2.92415727e-08, 2.23385506e-08, 1.65255720e-08,\n",
       "        1.09349694e-08, 4.94933872e-09, 2.69638178e-09, 1.54711177e-09],\n",
       "       [1.03445500e-01, 5.97550087e-02, 1.42176896e-02, 3.70113086e-03,\n",
       "        1.11747417e-03, 3.22135311e-04, 1.00307458e-04, 4.54954861e-05,\n",
       "        2.87892817e-05, 1.93571741e-05, 1.39854601e-05, 9.94392940e-06,\n",
       "        5.77130504e-06, 2.95210043e-06, 2.08693996e-06, 1.12824273e-06,\n",
       "        8.58954024e-07, 7.64417905e-07, 5.92537219e-07, 3.66370870e-07,\n",
       "        2.05497244e-07, 1.32975998e-07, 7.61271366e-08, 5.15965972e-08,\n",
       "        3.48939011e-08, 2.03050892e-08, 1.40099559e-08, 1.04859854e-08,\n",
       "        6.54229204e-09, 4.42623360e-09, 2.79671952e-09, 1.52707791e-09],\n",
       "       [3.53811681e-02, 3.24632786e-02, 9.59684141e-03, 1.94155448e-03,\n",
       "        5.31647296e-04, 1.80446252e-04, 6.40431317e-05, 2.75502498e-05,\n",
       "        1.56019360e-05, 8.08496497e-06, 4.74261969e-06, 3.37872029e-06,\n",
       "        2.10383951e-06, 1.53473854e-06, 1.06629477e-06, 6.24122436e-07,\n",
       "        4.15900018e-07, 2.99511811e-07, 2.33763672e-07, 1.55068051e-07,\n",
       "        9.30676123e-08, 5.64237865e-08, 2.75161671e-08, 1.98446983e-08,\n",
       "        1.40034695e-08, 8.89967477e-09, 6.23356078e-09, 4.86624963e-09,\n",
       "        3.26014704e-09, 2.17844631e-09, 1.38609269e-09, 7.52031271e-10],\n",
       "       [2.67635565e-02, 2.03909576e-02, 5.15978877e-03, 1.21557666e-03,\n",
       "        3.59123340e-04, 1.41105644e-04, 5.27966877e-05, 2.00600134e-05,\n",
       "        9.61506976e-06, 5.73232865e-06, 2.99950966e-06, 2.05283982e-06,\n",
       "        1.32480329e-06, 8.52376616e-07, 6.12944802e-07, 3.87849099e-07,\n",
       "        2.64056581e-07, 1.56904576e-07, 1.17540090e-07, 8.24168751e-08,\n",
       "        5.49652519e-08, 2.95018889e-08, 1.41391441e-08, 1.00750990e-08,\n",
       "        6.47633591e-09, 4.45434623e-09, 3.96181044e-09, 2.81705526e-09,\n",
       "        1.72202308e-09, 1.25171418e-09, 8.00381983e-10, 4.37389680e-10],\n",
       "       [1.79242380e-02, 1.15715805e-02, 3.03361216e-03, 1.02650246e-03,\n",
       "        2.51888297e-04, 7.51750777e-05, 2.97618426e-05, 1.27331305e-05,\n",
       "        6.77354819e-06, 3.72580712e-06, 1.82128383e-06, 1.28409897e-06,\n",
       "        8.34983723e-07, 5.58067427e-07, 4.07230061e-07, 2.55699575e-07,\n",
       "        1.81472558e-07, 1.33864205e-07, 8.61563265e-08, 4.69956731e-08,\n",
       "        3.13237187e-08, 1.81738109e-08, 9.90904070e-09, 6.70673739e-09,\n",
       "        4.14943946e-09, 3.34952555e-09, 2.60131428e-09, 1.75135839e-09,\n",
       "        1.44288359e-09, 1.09986042e-09, 6.76501466e-10, 3.63464647e-10],\n",
       "       [1.07901068e-02, 7.04086432e-03, 1.69480301e-03, 5.35135914e-04,\n",
       "        1.34962509e-04, 4.84032025e-05, 1.83027078e-05, 6.75133015e-06,\n",
       "        3.05220919e-06, 1.94126801e-06, 1.23082214e-06, 8.61740261e-07,\n",
       "        6.56688144e-07, 4.12286852e-07, 2.54477897e-07, 1.59029796e-07,\n",
       "        1.15981898e-07, 9.81246941e-08, 6.21202147e-08, 3.70148889e-08,\n",
       "        1.99774970e-08, 1.19933610e-08, 8.24363333e-09, 5.36442490e-09,\n",
       "        3.82263066e-09, 3.06979708e-09, 2.30718689e-09, 1.57318203e-09,\n",
       "        1.28936295e-09, 8.72813211e-10, 5.54162105e-10, 2.90950181e-10]],\n",
       "      dtype=float32)"
      ]
     },
     "execution_count": 15,
     "metadata": {},
     "output_type": "execute_result"
    }
   ],
   "source": [
    "mel_spectrogram"
   ]
  },
  {
   "cell_type": "code",
   "execution_count": 17,
   "metadata": {},
   "outputs": [],
   "source": [
    "np.save(\"my_base_de_datos_mel.npy\",mel_spectrogram)"
   ]
  },
  {
   "cell_type": "markdown",
   "metadata": {},
   "source": [
    "CNN 1D: promediar las pseudo-frecuencias de mel_spectrogram"
   ]
  },
  {
   "cell_type": "code",
   "execution_count": 13,
   "metadata": {},
   "outputs": [],
   "source": [
    "mel_spectrogram_mean_por_bin_de_frecuencia = np.mean(mel_spectrogram, axis = 1)"
   ]
  },
  {
   "cell_type": "code",
   "execution_count": 14,
   "metadata": {},
   "outputs": [
    {
     "data": {
      "text/plain": [
       "(10,)"
      ]
     },
     "execution_count": 14,
     "metadata": {},
     "output_type": "execute_result"
    }
   ],
   "source": [
    "mel_spectrogram_mean_por_bin_de_frecuencia.shape"
   ]
  },
  {
   "cell_type": "code",
   "execution_count": 16,
   "metadata": {},
   "outputs": [
    {
     "data": {
      "text/plain": [
       "array([4.5597992e+00, 5.6285307e-02, 1.4737563e-02, 1.1111571e-02,\n",
       "       6.8585570e-03, 5.7122470e-03, 2.5070317e-03, 1.6914780e-03,\n",
       "       1.0606776e-03, 6.3369598e-04], dtype=float32)"
      ]
     },
     "execution_count": 16,
     "metadata": {},
     "output_type": "execute_result"
    }
   ],
   "source": [
    "mel_spectrogram_mean_por_bin_de_frecuencia"
   ]
  },
  {
   "cell_type": "markdown",
   "metadata": {},
   "source": [
    "Emociones"
   ]
  },
  {
   "cell_type": "code",
   "execution_count": 18,
   "metadata": {},
   "outputs": [
    {
     "data": {
      "text/plain": [
       "180.5"
      ]
     },
     "execution_count": 18,
     "metadata": {},
     "output_type": "execute_result"
    }
   ],
   "source": [
    "1444/8"
   ]
  },
  {
   "cell_type": "code",
   "execution_count": 19,
   "metadata": {},
   "outputs": [],
   "source": [
    "import json"
   ]
  },
  {
   "cell_type": "code",
   "execution_count": 20,
   "metadata": {},
   "outputs": [],
   "source": [
    "my_json_structure = {\"0\":{\"mel-spectrogram\":mel_spectrogram, \"target\":0 }, \"1\":{\"mel-spectrogram\":mel_spectrogram, \"target\":1 }}"
   ]
  },
  {
   "cell_type": "code",
   "execution_count": 22,
   "metadata": {},
   "outputs": [
    {
     "data": {
      "text/plain": [
       "dict_keys(['0', '1'])"
      ]
     },
     "execution_count": 22,
     "metadata": {},
     "output_type": "execute_result"
    }
   ],
   "source": [
    "my_json_structure.keys()"
   ]
  },
  {
   "cell_type": "code",
   "execution_count": 25,
   "metadata": {},
   "outputs": [],
   "source": [
    "mi_lista_de_mel_spec = []\n",
    "targets = []\n",
    "for key in my_json_structure.keys():\n",
    "    mi_lista_de_mel_spec.append(my_json_structure[key]['mel-spectrogram'])\n",
    "    targets.append(my_json_structure[key]['target'])"
   ]
  },
  {
   "cell_type": "code",
   "execution_count": 27,
   "metadata": {},
   "outputs": [
    {
     "data": {
      "text/plain": [
       "2"
      ]
     },
     "execution_count": 27,
     "metadata": {},
     "output_type": "execute_result"
    }
   ],
   "source": [
    "len(mi_lista_de_mel_spec)"
   ]
  },
  {
   "cell_type": "code",
   "execution_count": 28,
   "metadata": {},
   "outputs": [
    {
     "data": {
      "text/plain": [
       "2"
      ]
     },
     "execution_count": 28,
     "metadata": {},
     "output_type": "execute_result"
    }
   ],
   "source": [
    "len(targets)"
   ]
  }
 ],
 "metadata": {
  "kernelspec": {
   "display_name": "ambiente-audio-2023",
   "language": "python",
   "name": "python3"
  },
  "language_info": {
   "codemirror_mode": {
    "name": "ipython",
    "version": 3
   },
   "file_extension": ".py",
   "mimetype": "text/x-python",
   "name": "python",
   "nbconvert_exporter": "python",
   "pygments_lexer": "ipython3",
   "version": "3.11.6"
  }
 },
 "nbformat": 4,
 "nbformat_minor": 2
}
