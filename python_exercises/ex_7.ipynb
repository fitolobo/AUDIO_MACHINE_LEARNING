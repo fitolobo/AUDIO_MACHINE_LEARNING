{
 "cells": [
  {
   "cell_type": "markdown",
   "metadata": {},
   "source": [
    "Memory issues: first solution"
   ]
  },
  {
   "cell_type": "code",
   "execution_count": 62,
   "metadata": {},
   "outputs": [],
   "source": [
    "from typing import List\n",
    "\n",
    "class Solution:\n",
    "    def maxSubArray(self, nums: List[int]) -> int:\n",
    "        L = len(nums)\n",
    "        counter = 0\n",
    "        max_sum = float('-inf')\n",
    "\n",
    "        index_left = None\n",
    "        index_right = None\n",
    "\n",
    "        for i in range(L):\n",
    "            counter = 0\n",
    "            while (abs(counter)<=L):  \n",
    "                if  len(nums[i:L+counter]) == 0:\n",
    "                    counter = L+1\n",
    "                else:\n",
    "                    s = sum(nums[i:L+counter])\n",
    "                    if max_sum < s:\n",
    "                        max_sum = s\n",
    "                        index_left = i\n",
    "                        index_right = L+counter  \n",
    "                        counter -= 1\n",
    "                    else:\n",
    "                        counter -= 1\n",
    "        return max_sum"
   ]
  },
  {
   "cell_type": "code",
   "execution_count": 161,
   "metadata": {},
   "outputs": [],
   "source": [
    "#nums = [-2,1,-3,4,-1,2,1,-5,4]\n",
    "#nums = [-2,-1]\n",
    "nums = [5,4,-1,7,8]"
   ]
  },
  {
   "cell_type": "markdown",
   "metadata": {},
   "source": [
    "TODO: two counters"
   ]
  },
  {
   "cell_type": "code",
   "execution_count": 168,
   "metadata": {},
   "outputs": [],
   "source": [
    "# def maxSubArray(nums: List[int]) -> int:\n",
    "\n",
    "#     L = len(nums)\n",
    "\n",
    "#     max_sum = float('-inf')\n",
    "\n",
    "#     index_left = None\n",
    "#     index_right = None\n",
    "\n",
    "#     counter_r = 0\n",
    "#     counter_l = 0\n",
    "\n",
    "#     while counter_r<=L and counter_l<=L:  \n",
    "#         print(f\"indexes: ({counter_l}, {counter_r})\")\n",
    "#         if  len(nums[counter_l:L-counter_r]) == 0:\n",
    "#             counter_r = L+1\n",
    "#         else:\n",
    "#             s = sum(nums[counter_l:L-counter_r])\n",
    "#             if max_sum < s:\n",
    "#                 max_sum = s\n",
    "#                 index_left = counter_l\n",
    "#                 index_right = L-counter_r  \n",
    "#                 counter_r += 1\n",
    "#             else:\n",
    "#                 counter_r += 1\n",
    "                \n",
    "#         if counter_r == L:\n",
    "#             counter_l += 1\n",
    "#             counter_r = 0\n",
    "            \n",
    "        \n",
    "#     return max_sum"
   ]
  }
 ],
 "metadata": {
  "kernelspec": {
   "display_name": "Python 3",
   "language": "python",
   "name": "python3"
  },
  "language_info": {
   "codemirror_mode": {
    "name": "ipython",
    "version": 3
   },
   "file_extension": ".py",
   "mimetype": "text/x-python",
   "name": "python",
   "nbconvert_exporter": "python",
   "pygments_lexer": "ipython3",
   "version": "3.11.6"
  }
 },
 "nbformat": 4,
 "nbformat_minor": 2
}
