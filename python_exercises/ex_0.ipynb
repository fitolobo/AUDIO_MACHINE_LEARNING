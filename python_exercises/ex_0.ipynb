{
 "cells": [
  {
   "cell_type": "markdown",
   "metadata": {},
   "source": [
    "Exercise 0\n",
    "\n",
    "You are given an array prices where ```prices[i]``` is the price of a given stock on the ith day.\n",
    "\n",
    "You want to maximize your profit by choosing a single day to buy one stock and choosing a different day in the future to sell that stock.\n",
    "\n",
    "Return the maximum profit you can achieve from this transaction. If you cannot achieve any profit, return 0."
   ]
  },
  {
   "cell_type": "markdown",
   "metadata": {},
   "source": [
    "Solución con problemas de memoria"
   ]
  },
  {
   "cell_type": "code",
   "execution_count": 1,
   "metadata": {},
   "outputs": [],
   "source": [
    "class Solution(object):\n",
    "    def maxProfit(self,prices):\n",
    "        \"\"\"\n",
    "        :type prices: List[int]\n",
    "        :rtype: int\n",
    "        \"\"\"\n",
    "        get_position = (0,0)\n",
    "        get_value = 0\n",
    "        for i in range(len(prices)):\n",
    "            for j in range(len(prices)):\n",
    "                if j>i:\n",
    "                    diff = prices[j] - prices[i]\n",
    "                    if diff>0:\n",
    "                        if diff>get_value:\n",
    "                            get_value = diff\n",
    "                            get_position = (i,j)\n",
    "                            \n",
    "        return get_value "
   ]
  },
  {
   "cell_type": "markdown",
   "metadata": {},
   "source": [
    "Caso 1"
   ]
  },
  {
   "cell_type": "code",
   "execution_count": 4,
   "metadata": {},
   "outputs": [],
   "source": [
    "prices = [7,1,5,3,6,4]\n",
    "output_esperado = 5"
   ]
  },
  {
   "cell_type": "code",
   "execution_count": 3,
   "metadata": {},
   "outputs": [
    {
     "name": "stdout",
     "output_type": "stream",
     "text": [
      "5\n"
     ]
    }
   ],
   "source": [
    "model = Solution()\n",
    "output = model.maxProfit(prices)\n",
    "print(output)"
   ]
  },
  {
   "cell_type": "markdown",
   "metadata": {},
   "source": [
    "Caso 2"
   ]
  },
  {
   "cell_type": "code",
   "execution_count": 4,
   "metadata": {},
   "outputs": [],
   "source": [
    "prices = [7,6,4,3,1]\n",
    "output_esperado = 0"
   ]
  },
  {
   "cell_type": "markdown",
   "metadata": {},
   "source": [
    "Solución\n",
    "\n",
    "Observación: la utilización de ```float(inf)``` y variables para almacenar estados máximos y mínimos es la estrategia básica. \n",
    "De esta manera evita restar para todo los pares y recorrer dos veces la lista. \n",
    "Almacena el valor mínimo hasta obtener un valor no mínimo, recién calcula diferencias y guarda en caso de sobrepasar el ```max_profit```"
   ]
  },
  {
   "cell_type": "code",
   "execution_count": 7,
   "metadata": {},
   "outputs": [],
   "source": [
    "from typing import List\n",
    "\n",
    "def maxProfit(prices: List[int]) -> int:\n",
    "    min_price = float('inf') #capturo el primer valor siempre y lo dejo como minimo\n",
    "    max_profit = 0\n",
    "    for i in range(len(prices)):\n",
    "        if prices[i] < min_price:\n",
    "            print(f\"prices[i]<min_price; given by {prices[i] } < {min_price}\")\n",
    "            min_price = prices[i]\n",
    "            print(f\"then min_price = {prices[i]}\")\n",
    "        elif prices[i] - min_price > max_profit:\n",
    "            print(f\"prices[i] - min_price> max_profit; given by {prices[i] - min_price} > {max_profit}\")\n",
    "            max_profit = prices[i] - min_price\n",
    "            \n",
    "    return max_profit\n",
    "            "
   ]
  },
  {
   "cell_type": "code",
   "execution_count": 8,
   "metadata": {},
   "outputs": [
    {
     "name": "stdout",
     "output_type": "stream",
     "text": [
      "prices[i]<min_price; given by 7 < inf\n",
      "then min_price = 7\n",
      "prices[i]<min_price; given by 1 < 7\n",
      "then min_price = 1\n",
      "prices[i] - min_price> max_profit; given by 4 > 0\n",
      "prices[i] - min_price> max_profit; given by 5 > 4\n"
     ]
    },
    {
     "data": {
      "text/plain": [
       "5"
      ]
     },
     "execution_count": 8,
     "metadata": {},
     "output_type": "execute_result"
    }
   ],
   "source": [
    "maxProfit(prices)"
   ]
  },
  {
   "cell_type": "markdown",
   "metadata": {},
   "source": [
    "Analisis"
   ]
  },
  {
   "cell_type": "code",
   "execution_count": null,
   "metadata": {},
   "outputs": [],
   "source": [
    "def maxProfit(prices):\n",
    "    # inicializa el minimo como infinito para siempre capturar el primer valor como minimo\n",
    "    min_ref = float('inf')\n",
    "    # inicializa el maximo como 0 (no sirven los negativos)\n",
    "    max_ref = 0\n",
    "    for i in range(len(prices)):\n",
    "        if prices[i]<min_ref:\n",
    "            min_ref = prices[i]\n",
    "        elif prices[i] - min_ref > max_ref: #utiliza elif porque de esta manera actualiza el maximo solo de ser necesario!\n",
    "            max_ref = prices[i]- min_ref    #porque quiere el profit que es una diferencia!\n",
    "            "
   ]
  }
 ],
 "metadata": {
  "kernelspec": {
   "display_name": "Python 3",
   "language": "python",
   "name": "python3"
  },
  "language_info": {
   "codemirror_mode": {
    "name": "ipython",
    "version": 3
   },
   "file_extension": ".py",
   "mimetype": "text/x-python",
   "name": "python",
   "nbconvert_exporter": "python",
   "pygments_lexer": "ipython3",
   "version": "3.11.6"
  }
 },
 "nbformat": 4,
 "nbformat_minor": 2
}
