{
 "cells": [
  {
   "cell_type": "code",
   "execution_count": 2,
   "metadata": {},
   "outputs": [],
   "source": [
    "from typing import List"
   ]
  },
  {
   "cell_type": "markdown",
   "metadata": {},
   "source": [
    "Recordando ejercicios"
   ]
  },
  {
   "cell_type": "code",
   "execution_count": 129,
   "metadata": {},
   "outputs": [],
   "source": [
    "def productExceptSelf(nums: List[int]) -> List[int]:\n",
    "   l_output = [1]*len(nums)\n",
    "   r_output = [1]*len(nums)\n",
    "   \n",
    "   # LEFT MATRIX\n",
    "   for i in range(1,len(nums)):\n",
    "      l_output[i] *= nums[i-1]*l_output[i-1]\n",
    "\n",
    "   print(f\"left list: {l_output}\")  \n",
    "\n",
    "   # RIGHT MATRIX\n",
    "   for i in range(len(nums)-2,-1,-1):\n",
    "      r_output[i] *= nums[i+1]*r_output[i+1]\n",
    "   \n",
    "   print(f\"right list: {r_output}\") \n",
    "   \n",
    "   # Union de las dos listas\n",
    "   for i in range(len(r_output)):\n",
    "      r_output[i] *= l_output[i]\n",
    "   \n",
    "    \n",
    "   \n",
    "   return r_output"
   ]
  },
  {
   "cell_type": "code",
   "execution_count": 130,
   "metadata": {},
   "outputs": [],
   "source": [
    "x = [1,2,3,4]"
   ]
  },
  {
   "cell_type": "code",
   "execution_count": 131,
   "metadata": {},
   "outputs": [
    {
     "name": "stdout",
     "output_type": "stream",
     "text": [
      "left list: [1, 1, 2, 6]\n",
      "right list: [24, 12, 4, 1]\n"
     ]
    },
    {
     "data": {
      "text/plain": [
       "[24, 12, 8, 6]"
      ]
     },
     "execution_count": 131,
     "metadata": {},
     "output_type": "execute_result"
    }
   ],
   "source": [
    "productExceptSelf(x)"
   ]
  }
 ],
 "metadata": {
  "kernelspec": {
   "display_name": "ambiente-audio-2023",
   "language": "python",
   "name": "python3"
  },
  "language_info": {
   "codemirror_mode": {
    "name": "ipython",
    "version": 3
   },
   "file_extension": ".py",
   "mimetype": "text/x-python",
   "name": "python",
   "nbconvert_exporter": "python",
   "pygments_lexer": "ipython3",
   "version": "3.11.6"
  }
 },
 "nbformat": 4,
 "nbformat_minor": 2
}
