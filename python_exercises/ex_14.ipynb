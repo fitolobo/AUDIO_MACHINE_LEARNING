{
 "cells": [
  {
   "cell_type": "markdown",
   "metadata": {},
   "source": [
    "Dada una lista escribe una función para obtener las dos calificaciones más altas\n",
    "La lista podría llegar a contener duplicados"
   ]
  },
  {
   "cell_type": "code",
   "execution_count": 1,
   "metadata": {},
   "outputs": [],
   "source": [
    "calificaciones = [84,85,86,87,85,90,85,83,23,45,84,1,2,0]"
   ]
  },
  {
   "cell_type": "markdown",
   "metadata": {},
   "source": [
    "Utilizando ```sorted```"
   ]
  },
  {
   "cell_type": "code",
   "execution_count": 10,
   "metadata": {},
   "outputs": [],
   "source": [
    "def dos_mas_altos(calificaciones):\n",
    "    return sorted(calificaciones)[-2:]"
   ]
  },
  {
   "cell_type": "code",
   "execution_count": 11,
   "metadata": {},
   "outputs": [
    {
     "data": {
      "text/plain": [
       "[87, 90]"
      ]
     },
     "execution_count": 11,
     "metadata": {},
     "output_type": "execute_result"
    }
   ],
   "source": [
    "dos_mas_altos(calificaciones)"
   ]
  },
  {
   "cell_type": "markdown",
   "metadata": {},
   "source": [
    "Sin utilizar ```sorted```"
   ]
  },
  {
   "cell_type": "code",
   "execution_count": 18,
   "metadata": {},
   "outputs": [],
   "source": [
    "def dos_mas_altos(calificaciones):\n",
    "    max_1 = -1\n",
    "    max_2 = -1\n",
    "    \n",
    "    for i, value in enumerate(calificaciones):\n",
    "        print(f\"reading element: {i}\")\n",
    "        print(f\"value to be compared: {value}\")\n",
    "        \n",
    "        if value > max_1: \n",
    "            print(f\"first statement applied\")\n",
    "            max_2 = max_1\n",
    "            max_1 = value\n",
    "            \n",
    "            print(f\"max_1 : {max_1}\")\n",
    "            print(f\"max_2 : {max_2}\")\n",
    "            \n",
    "        elif value > max_2:\n",
    "            print(f\"second statement applied\")\n",
    "            max_2 = value\n",
    "            print(f\"max_1 : {max_1}\")\n",
    "            print(f\"max_2 : {max_2}\")\n",
    "        print(\"####################\")\n",
    "    return max_1, max_2 "
   ]
  },
  {
   "cell_type": "code",
   "execution_count": 19,
   "metadata": {},
   "outputs": [
    {
     "name": "stdout",
     "output_type": "stream",
     "text": [
      "reading element: 0\n",
      "value to be compared: 84\n",
      "first statement applied\n",
      "max_1 : 84\n",
      "max_2 : -1\n",
      "####################\n",
      "reading element: 1\n",
      "value to be compared: 85\n",
      "first statement applied\n",
      "max_1 : 85\n",
      "max_2 : 84\n",
      "####################\n",
      "reading element: 2\n",
      "value to be compared: 86\n",
      "first statement applied\n",
      "max_1 : 86\n",
      "max_2 : 85\n",
      "####################\n",
      "reading element: 3\n",
      "value to be compared: 87\n",
      "first statement applied\n",
      "max_1 : 87\n",
      "max_2 : 86\n",
      "####################\n",
      "reading element: 4\n",
      "value to be compared: 85\n",
      "####################\n",
      "reading element: 5\n",
      "value to be compared: 90\n",
      "first statement applied\n",
      "max_1 : 90\n",
      "max_2 : 87\n",
      "####################\n",
      "reading element: 6\n",
      "value to be compared: 85\n",
      "####################\n",
      "reading element: 7\n",
      "value to be compared: 83\n",
      "####################\n",
      "reading element: 8\n",
      "value to be compared: 23\n",
      "####################\n",
      "reading element: 9\n",
      "value to be compared: 45\n",
      "####################\n",
      "reading element: 10\n",
      "value to be compared: 84\n",
      "####################\n",
      "reading element: 11\n",
      "value to be compared: 1\n",
      "####################\n",
      "reading element: 12\n",
      "value to be compared: 2\n",
      "####################\n",
      "reading element: 13\n",
      "value to be compared: 0\n",
      "####################\n"
     ]
    },
    {
     "data": {
      "text/plain": [
       "(90, 87)"
      ]
     },
     "execution_count": 19,
     "metadata": {},
     "output_type": "execute_result"
    }
   ],
   "source": [
    "dos_mas_altos(calificaciones)"
   ]
  }
 ],
 "metadata": {
  "kernelspec": {
   "display_name": "ambiente-audio-2023",
   "language": "python",
   "name": "python3"
  },
  "language_info": {
   "codemirror_mode": {
    "name": "ipython",
    "version": 3
   },
   "file_extension": ".py",
   "mimetype": "text/x-python",
   "name": "python",
   "nbconvert_exporter": "python",
   "pygments_lexer": "ipython3",
   "version": "3.11.6"
  }
 },
 "nbformat": 4,
 "nbformat_minor": 2
}
