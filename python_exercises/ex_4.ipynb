{
 "cells": [
  {
   "cell_type": "markdown",
   "metadata": {},
   "source": [
    "Your task is to remove the minimum number of parentheses ```('(' or ')')```, in any positions, so that the resulting parentheses string is valid and return any valid string. \n",
    "\n",
    "Formally, a parentheses string is valid if and only if:\n",
    "\n",
    "1 - It is the empty string, contains only lowercase characters, or\n",
    "\n",
    "2 - It can be written as ```AB``` (A concatenated with B), where A and B are valid strings\n",
    "\n",
    "3 - It can be written as ```(A)``` , where A is a valid string"
   ]
  },
  {
   "cell_type": "code",
   "execution_count": 1,
   "metadata": {},
   "outputs": [],
   "source": [
    "input_string = \"FO(O(BAR)BA)Z)\""
   ]
  },
  {
   "cell_type": "code",
   "execution_count": 2,
   "metadata": {},
   "outputs": [],
   "source": [
    "expected_output = \"FO(O(BAR)BA)Z\""
   ]
  },
  {
   "cell_type": "code",
   "execution_count": 3,
   "metadata": {},
   "outputs": [],
   "source": [
    "another_expected_output = \"FO(O(BARBA)Z)\""
   ]
  },
  {
   "cell_type": "markdown",
   "metadata": {},
   "source": [
    "First Idea"
   ]
  },
  {
   "cell_type": "code",
   "execution_count": 162,
   "metadata": {},
   "outputs": [],
   "source": [
    "def missing_char(str, n):\n",
    "\n",
    "  n = abs(n)\n",
    "  front = str[:n]   # up to but not including n\n",
    "  back = str[n+1:]  # n+1 through end of string\n",
    "  return front + back\n",
    "\n",
    "def removing_parentheses(string):\n",
    "    \n",
    "    # Traversing from both sides looking for \"closed\" parenthesis  ->   <-\n",
    "    r = len(string) - 1\n",
    "    l = 0\n",
    "    empty_string = \"\"\n",
    "    \n",
    "    \n",
    "    left_p_catched = False\n",
    "    right_p_catched = False\n",
    "    candidate_l_remove_position = None\n",
    "    candidate_r_remove_position = None\n",
    "    \n",
    "    iter_counter = 0\n",
    "    remove_place_holder = []\n",
    "    \n",
    "    string = list(string)\n",
    "    \n",
    "    while l<=r:\n",
    "        # print(f\"### Iteration {iter_counter} ###\")\n",
    "        # print(\"Input string: \", string)\n",
    "        # # Left movement\n",
    "        # print(\"Left movement:\", string[l])\n",
    "        # print(\"l: \", l)\n",
    "        \n",
    "        if string[l] == \"(\":\n",
    "            left_p_catched = True\n",
    "            candidate_l_remove_position = l\n",
    "            #print(\"left parentheses catched at position: \", candidate_l_remove_position)\n",
    "        elif string[l] == \")\":\n",
    "            string[l] = \"\"\n",
    "            l += 1\n",
    "        else:\n",
    "            l += 1\n",
    "            \n",
    "        # Right movement\n",
    "        # print(\"Right movement:\", string[r])\n",
    "        # print(\"r: \", r)\n",
    "        \n",
    "        if string[r] == \")\":\n",
    "            right_p_catched = True\n",
    "            candidate_r_remove_position = r\n",
    "            #print(\"right parentheses catched at position: \", candidate_r_remove_position)\n",
    "        elif string[r] == \"(\":\n",
    "            string[r] = \"\"\n",
    "            r = r - 1\n",
    "        else:\n",
    "            r = r - 1\n",
    "        if left_p_catched and right_p_catched:\n",
    "            #print(\"Parentheses match in positions\")\n",
    "            left_p_catched = False\n",
    "            right_p_catched = False\n",
    "            candidate_l_remove_position = None\n",
    "            candidate_r_remove_position = None\n",
    "            l += 1\n",
    "            r = r - 1\n",
    "        iter_counter += 1\n",
    "    #     print(\"new l-r pointers\", (l,r))\n",
    "    #     print(\"end?: \", l>r)\n",
    "    #     print(\"string: \", string)\n",
    "    \n",
    "    \n",
    "    # print(\"After all the process we have: \")\n",
    "    # print(\"left info\")\n",
    "    # print(left_p_catched,candidate_l_remove_position)\n",
    "    # print(\"right info\")\n",
    "    # print(right_p_catched,candidate_r_remove_position)\n",
    "    \n",
    "    # # Removing\n",
    "    if left_p_catched:\n",
    "        string = missing_char(string,candidate_l_remove_position)\n",
    "    if right_p_catched:\n",
    "        string = missing_char(string,candidate_r_remove_position)\n",
    "    \n",
    "    for pos in remove_place_holder:\n",
    "        string = missing_char(string,pos)\n",
    "    return \"\".join(string)\n",
    "        "
   ]
  },
  {
   "cell_type": "code",
   "execution_count": 163,
   "metadata": {},
   "outputs": [
    {
     "data": {
      "text/plain": [
       "'FO(O(BARBA)Z)'"
      ]
     },
     "execution_count": 163,
     "metadata": {},
     "output_type": "execute_result"
    }
   ],
   "source": [
    "removing_parentheses(input_string)"
   ]
  },
  {
   "cell_type": "markdown",
   "metadata": {},
   "source": [
    "Testing"
   ]
  },
  {
   "cell_type": "code",
   "execution_count": 164,
   "metadata": {},
   "outputs": [],
   "source": [
    "s = \"lee(t(c)o)de)\""
   ]
  },
  {
   "cell_type": "code",
   "execution_count": 165,
   "metadata": {},
   "outputs": [
    {
     "data": {
      "text/plain": [
       "'lee(t(co)de)'"
      ]
     },
     "execution_count": 165,
     "metadata": {},
     "output_type": "execute_result"
    }
   ],
   "source": [
    "removing_parentheses(s)"
   ]
  },
  {
   "cell_type": "code",
   "execution_count": 166,
   "metadata": {},
   "outputs": [],
   "source": [
    "s = \"))((\""
   ]
  },
  {
   "cell_type": "code",
   "execution_count": 167,
   "metadata": {},
   "outputs": [],
   "source": [
    "out = removing_parentheses(s)"
   ]
  },
  {
   "cell_type": "code",
   "execution_count": 168,
   "metadata": {},
   "outputs": [
    {
     "data": {
      "text/plain": [
       "''"
      ]
     },
     "execution_count": 168,
     "metadata": {},
     "output_type": "execute_result"
    }
   ],
   "source": [
    "out"
   ]
  },
  {
   "cell_type": "markdown",
   "metadata": {},
   "source": [
    "First Ideas as a Class\n",
    "\n",
    "1 - Problem: is not removing the minimum number of parentheses"
   ]
  },
  {
   "cell_type": "code",
   "execution_count": 170,
   "metadata": {},
   "outputs": [],
   "source": [
    "class Solution:\n",
    "\n",
    "    def remove_char(self, string: str, n: int)-> str:\n",
    "\n",
    "        n = abs(n)\n",
    "        front = string[:n]   # up to but not including n\n",
    "        back = string[n+1:]  # n+1 through end of string\n",
    "        return front + back\n",
    "\n",
    "    def minRemoveToMakeValid(self, string: str)-> str:\n",
    "        \n",
    "        # Traversing from both sides looking for \"closed\" parenthesis  ->   <-\n",
    "        r = len(string) - 1\n",
    "        l = 0\n",
    "        \n",
    "        left_p_catched = False\n",
    "        right_p_catched = False\n",
    "        candidate_l_remove_position = None\n",
    "        candidate_r_remove_position = None\n",
    "        \n",
    "        iter_counter = 0\n",
    "        string = list(string)\n",
    "        \n",
    "        while l <= r:\n",
    "\n",
    "            if string[l] == \"(\":\n",
    "                left_p_catched = True\n",
    "                candidate_l_remove_position = l\n",
    "            elif string[l] == \")\":\n",
    "                string[l] = \"\"\n",
    "                l += 1\n",
    "            else:\n",
    "                l += 1\n",
    "            \n",
    "            if string[r] == \")\":\n",
    "                right_p_catched = True\n",
    "                candidate_r_remove_position = r\n",
    "            elif string[r] == \"(\":\n",
    "                string[r] = \"\"\n",
    "                r = r - 1\n",
    "            else:\n",
    "                r = r - 1\n",
    "            if left_p_catched and right_p_catched:\n",
    "                left_p_catched = False\n",
    "                right_p_catched = False\n",
    "                candidate_l_remove_position = None\n",
    "                candidate_r_remove_position = None\n",
    "                l += 1\n",
    "                r = r - 1\n",
    "            iter_counter += 1\n",
    "        \n",
    "        # # Removing\n",
    "        if left_p_catched:\n",
    "            string = self.remove_char(string,candidate_l_remove_position)\n",
    "        if right_p_catched:\n",
    "            string = self.remove_char(string,candidate_r_remove_position)\n",
    "\n",
    "        return \"\".join(string)"
   ]
  },
  {
   "cell_type": "markdown",
   "metadata": {},
   "source": [
    "Solution: Minimum Number of Parentheses"
   ]
  },
  {
   "cell_type": "code",
   "execution_count": 220,
   "metadata": {},
   "outputs": [],
   "source": [
    "def second_idea(string:str)->str:\n",
    "    print(\"input\", string)\n",
    "    # transformar a lista\n",
    "    string_list = list(string)\n",
    "    # craer un espacio para los elementos que quiero eliminar\n",
    "    position_to_remove = []\n",
    "    \n",
    "    # recorro de izquierda a derecha\n",
    "    for i in range(len(string)):\n",
    "        # si hay un parentesis izquierdo\n",
    "        if string[i] == \"(\":\n",
    "            position_to_remove.append(i) #guardo el indice, si no continuo\n",
    "        # si hay un parentesis derecho\n",
    "        elif string[i] == \")\":\n",
    "            # si hay algo almacenado en la lista para remover (obligadamente algo izquierdo)\n",
    "            if len(position_to_remove) != 0:\n",
    "                position_to_remove.pop() #elimina el indice del partensis izquierdo almacenado (Es un match!)\n",
    "            else:\n",
    "                string_list[i] = \"\"      #elimina la posicion actual si no hay algo izquierdo almacenado y es un derecho\n",
    "                \n",
    "    # los que sobraron son eliminados\n",
    "    print(\"sobró alg?: \",position_to_remove)\n",
    "    for i in position_to_remove:\n",
    "        string_list[i] = \"\"\n",
    "        print(f\"elimino de la lista to remove {string[i]}\", string)\n",
    "    return ''.join(string_list)\n",
    "                    "
   ]
  },
  {
   "cell_type": "code",
   "execution_count": 221,
   "metadata": {},
   "outputs": [],
   "source": [
    "s =\"))()(\""
   ]
  },
  {
   "cell_type": "code",
   "execution_count": 222,
   "metadata": {},
   "outputs": [
    {
     "name": "stdout",
     "output_type": "stream",
     "text": [
      "input ))()(\n",
      "sobró alg?:  [4]\n",
      "elimino de la lista to remove ( ))()(\n"
     ]
    },
    {
     "data": {
      "text/plain": [
       "'()'"
      ]
     },
     "execution_count": 222,
     "metadata": {},
     "output_type": "execute_result"
    }
   ],
   "source": [
    "second_idea(s)"
   ]
  }
 ],
 "metadata": {
  "kernelspec": {
   "display_name": "Python 3",
   "language": "python",
   "name": "python3"
  },
  "language_info": {
   "codemirror_mode": {
    "name": "ipython",
    "version": 3
   },
   "file_extension": ".py",
   "mimetype": "text/x-python",
   "name": "python",
   "nbconvert_exporter": "python",
   "pygments_lexer": "ipython3",
   "version": "3.11.6"
  }
 },
 "nbformat": 4,
 "nbformat_minor": 2
}
