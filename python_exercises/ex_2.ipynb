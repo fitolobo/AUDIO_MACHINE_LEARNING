{
 "cells": [
  {
   "cell_type": "markdown",
   "metadata": {},
   "source": [
    "Exercise 2\n",
    "\n",
    "\n",
    "Given an integer array ```nums```, return an array ```answer``` such that ```answer[i]``` is equal to the product of all the elements of nums except ```nums[i]```.\n",
    "\n",
    "The product of any prefix or suffix of nums is guaranteed to fit in a 32-bit integer.\n",
    "\n",
    "You must write an algorithm that runs in O(n) time and without using the division operation."
   ]
  },
  {
   "cell_type": "markdown",
   "metadata": {},
   "source": [
    "Solucion orden $O(n^{2})$"
   ]
  },
  {
   "cell_type": "code",
   "execution_count": 10,
   "metadata": {},
   "outputs": [],
   "source": [
    "from typing import List\n",
    "from functools import reduce"
   ]
  },
  {
   "cell_type": "code",
   "execution_count": 14,
   "metadata": {},
   "outputs": [],
   "source": [
    "class Solution:\n",
    "    def productExceptSelf(self, nums: List[int]) -> List[int]:\n",
    "        sol = []\n",
    "        my_copy = nums.copy()\n",
    "        for j in range(len(nums)):\n",
    "            nums.pop(j)\n",
    "            prod = reduce((lambda x,y: x* y), nums)\n",
    "            nums = my_copy.copy()\n",
    "            sol.append(prod)\n",
    "        return sol"
   ]
  },
  {
   "cell_type": "code",
   "execution_count": 17,
   "metadata": {},
   "outputs": [],
   "source": [
    "v = [1,2,3,4,11]"
   ]
  },
  {
   "cell_type": "code",
   "execution_count": 18,
   "metadata": {},
   "outputs": [
    {
     "data": {
      "text/plain": [
       "[264, 132, 88, 66, 24]"
      ]
     },
     "execution_count": 18,
     "metadata": {},
     "output_type": "execute_result"
    }
   ],
   "source": [
    "mysol = Solution()\n",
    "mysol.productExceptSelf(v)"
   ]
  },
  {
   "cell_type": "markdown",
   "metadata": {},
   "source": [
    "Solución Esperada"
   ]
  },
  {
   "cell_type": "code",
   "execution_count": 21,
   "metadata": {},
   "outputs": [],
   "source": [
    "class Solution:\n",
    "    def productExceptSelf(self, nums: List[int]) -> List[int]:\n",
    "        length=len(nums)\n",
    "        sol=[1]*length\n",
    "        pre = 1\n",
    "        post = 1\n",
    "        for i in range(length):\n",
    "            print(f\"iteracion: {i}\")\n",
    "            sol[i] *= pre\n",
    "            print(f\"solucion: {sol}\")\n",
    "            pre = pre*nums[i]\n",
    "            print(f\"pre: {pre}\")\n",
    "            sol[length-i-1] *= post\n",
    "            print(f\"solucion: {sol}\")\n",
    "            post = post*nums[length-i-1]\n",
    "            print(f\"post: {post}\")\n",
    "            print(\"###########\")\n",
    "        return(sol)"
   ]
  },
  {
   "cell_type": "code",
   "execution_count": 25,
   "metadata": {},
   "outputs": [],
   "source": [
    "v = [6,2,3,4]"
   ]
  },
  {
   "cell_type": "code",
   "execution_count": 26,
   "metadata": {},
   "outputs": [
    {
     "name": "stdout",
     "output_type": "stream",
     "text": [
      "iteracion: 0\n",
      "solucion: [1, 1, 1, 1]\n",
      "pre: 6\n",
      "solucion: [1, 1, 1, 1]\n",
      "post: 4\n",
      "###########\n",
      "iteracion: 1\n",
      "solucion: [1, 6, 1, 1]\n",
      "pre: 12\n",
      "solucion: [1, 6, 4, 1]\n",
      "post: 12\n",
      "###########\n",
      "iteracion: 2\n",
      "solucion: [1, 6, 48, 1]\n",
      "pre: 36\n",
      "solucion: [1, 72, 48, 1]\n",
      "post: 24\n",
      "###########\n",
      "iteracion: 3\n",
      "solucion: [1, 72, 48, 36]\n",
      "pre: 144\n",
      "solucion: [24, 72, 48, 36]\n",
      "post: 144\n",
      "###########\n"
     ]
    },
    {
     "data": {
      "text/plain": [
       "[24, 72, 48, 36]"
      ]
     },
     "execution_count": 26,
     "metadata": {},
     "output_type": "execute_result"
    }
   ],
   "source": [
    "mysol = Solution()\n",
    "mysol.productExceptSelf(v)"
   ]
  }
 ],
 "metadata": {
  "kernelspec": {
   "display_name": "Python 3",
   "language": "python",
   "name": "python3"
  },
  "language_info": {
   "codemirror_mode": {
    "name": "ipython",
    "version": 3
   },
   "file_extension": ".py",
   "mimetype": "text/x-python",
   "name": "python",
   "nbconvert_exporter": "python",
   "pygments_lexer": "ipython3",
   "version": "3.11.6"
  }
 },
 "nbformat": 4,
 "nbformat_minor": 2
}
