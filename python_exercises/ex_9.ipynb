{
 "cells": [
  {
   "cell_type": "markdown",
   "metadata": {},
   "source": [
    "Dado un target y una lista encuentra el par de  números que sumados dan el target. Es probable que alguna de estas soluciones no generalice todos los casos, excepto la última solución."
   ]
  },
  {
   "cell_type": "code",
   "execution_count": 45,
   "metadata": {},
   "outputs": [],
   "source": [
    "target = 20\n",
    "lista = [2,6,3,9,11]"
   ]
  },
  {
   "cell_type": "code",
   "execution_count": 27,
   "metadata": {},
   "outputs": [],
   "source": [
    "def sumando_por_objetivo(lista,target):\n",
    "    \n",
    "    # placeholder\n",
    "    my_diffs = []\n",
    "    \n",
    "    # init\n",
    "    diff = target - lista[0]\n",
    "    my_diffs.append(diff)\n",
    "    \n",
    "    # index ref\n",
    "    ref_index_list = []\n",
    "    ref_index_list.append(0)\n",
    "    \n",
    "    for i in range(1,len(lista)):\n",
    "        if lista[i] in my_diffs:\n",
    "            return [ref_index_list[0],i]\n",
    "        else:\n",
    "            ref_index_list.pop()\n",
    "            ref_index_list.append(i)\n",
    "            \n",
    "            diff = target - lista[i]\n",
    "            my_diffs.append(diff)\n",
    "        \n",
    "            "
   ]
  },
  {
   "cell_type": "code",
   "execution_count": 28,
   "metadata": {},
   "outputs": [
    {
     "data": {
      "text/plain": [
       "[3, 4]"
      ]
     },
     "execution_count": 28,
     "metadata": {},
     "output_type": "execute_result"
    }
   ],
   "source": [
    "sumando_por_objetivo(lista,target)"
   ]
  },
  {
   "cell_type": "markdown",
   "metadata": {},
   "source": [
    "Otra solución"
   ]
  },
  {
   "cell_type": "code",
   "execution_count": 29,
   "metadata": {},
   "outputs": [],
   "source": [
    "def find_pairs(nums,target):\n",
    "    for i in range(len(nums)):\n",
    "        for j in range(i+1,len(nums)):\n",
    "            if nums[i] == nums[j]:\n",
    "                continue\n",
    "            elif nums[i] + nums[j] == target:\n",
    "                print(i,j)"
   ]
  },
  {
   "cell_type": "code",
   "execution_count": 30,
   "metadata": {},
   "outputs": [
    {
     "name": "stdout",
     "output_type": "stream",
     "text": [
      "3 4\n"
     ]
    }
   ],
   "source": [
    "find_pairs(lista,target)"
   ]
  },
  {
   "cell_type": "markdown",
   "metadata": {},
   "source": [
    "Otra solución\n",
    "\n",
    "Utilizando diccionarios"
   ]
  },
  {
   "cell_type": "code",
   "execution_count": 55,
   "metadata": {},
   "outputs": [],
   "source": [
    "def find_pairs_map(lista, target):\n",
    "    \n",
    "    mapa = {}\n",
    "    \n",
    "    for i in range(len(lista)):\n",
    "        complemento = target - lista[i]\n",
    "        \n",
    "        if lista[i] in mapa:\n",
    "            return [mapa[lista[i]],i]\n",
    "        \n",
    "        mapa[complemento] = i"
   ]
  },
  {
   "cell_type": "code",
   "execution_count": 56,
   "metadata": {},
   "outputs": [
    {
     "data": {
      "text/plain": [
       "[3, 4]"
      ]
     },
     "execution_count": 56,
     "metadata": {},
     "output_type": "execute_result"
    }
   ],
   "source": [
    "find_pairs_map(lista, target)"
   ]
  }
 ],
 "metadata": {
  "kernelspec": {
   "display_name": "ambiente-audio-2023",
   "language": "python",
   "name": "python3"
  },
  "language_info": {
   "codemirror_mode": {
    "name": "ipython",
    "version": 3
   },
   "file_extension": ".py",
   "mimetype": "text/x-python",
   "name": "python",
   "nbconvert_exporter": "python",
   "pygments_lexer": "ipython3",
   "version": "3.11.6"
  }
 },
 "nbformat": 4,
 "nbformat_minor": 2
}
