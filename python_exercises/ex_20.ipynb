{
 "cells": [
  {
   "cell_type": "markdown",
   "metadata": {},
   "source": [
    "Top 10 Big O questions\n",
    "\n",
    "1 - What is the runtime of the below code?"
   ]
  },
  {
   "cell_type": "code",
   "execution_count": 1,
   "metadata": {},
   "outputs": [],
   "source": [
    "def foo(array):\n",
    "    sum = 0      #O(1)\n",
    "    product = 1  #O(1)\n",
    "    \n",
    "    for i in array: #O(len(array))\n",
    "        sum += i    #O(1)\n",
    "    \n",
    "    for i in array:  #O(len(array))\n",
    "        product *= i #O(1)\n",
    "        \n",
    "    print(\"sum = \"+str(sum)+\", Product = \"+str(product)) #O(1)\n",
    "    "
   ]
  },
  {
   "cell_type": "markdown",
   "metadata": {},
   "source": [
    "total = $2\\cdot O(n)+4 \\cdot O(1)$ = $O(n)$\n",
    "\n",
    "2 - What is the runtime of the below code?"
   ]
  },
  {
   "cell_type": "code",
   "execution_count": null,
   "metadata": {},
   "outputs": [],
   "source": [
    "def printPairs(array):\n",
    "    for i in array:      #O(len(array))\n",
    "        for j in array:  #O(len(array))\n",
    "            print(str(i)+\",\"+str(j)) #O(1)"
   ]
  },
  {
   "cell_type": "markdown",
   "metadata": {},
   "source": [
    "total = $O(n^2)$\n",
    "\n",
    "3 - What is the runtime of the below code?"
   ]
  },
  {
   "cell_type": "code",
   "execution_count": null,
   "metadata": {},
   "outputs": [],
   "source": [
    "def printUnorderedPairs(array):\n",
    "    for i in range(0,len(array)):     #O(len(array))\n",
    "        for j in range(i+1,len(array)): #O(len(array)-i \n",
    "            print(array[i]+\",\"+array[j])"
   ]
  },
  {
   "cell_type": "markdown",
   "metadata": {},
   "source": [
    "We need math for this one!: \n",
    "\n",
    "\\begin{align}\n",
    "\\displaystyle \\sum_{i=1}^{n-1} n - i &= \\displaystyle \\sum_{i=1}^{n-1} n - \\displaystyle \\sum_{i=1}^{n-1} i \\\\\n",
    "&= n(n-1) - \\left(\\displaystyle \\sum_{i=0}^{n-1} i - \\displaystyle \\sum_{i=0}^{0} i  \\right)\n",
    "&= n(n-1) - \\dfrac{(n-1)(n-2)}{2} \\\\\n",
    "&=  n^2 - n - \\dfrac{n^2 - 3n + 2}{2}\\\\\n",
    "&=  \\dfrac{n^2}{2} -  \\dfrac{5n}{2} + 1 \\rightarrow O\\left( \\dfrac{n^{2}}{2}\\right)\n",
    "\\end{align}\n",
    "\n",
    "\n",
    "\n",
    "4 - What is the runtime of the below code?"
   ]
  },
  {
   "cell_type": "code",
   "execution_count": 2,
   "metadata": {},
   "outputs": [],
   "source": [
    "def printUnorderedPairs(arrayA,arrayB):\n",
    "    for i in range(len(arrayA)):     #O(len(array))\n",
    "        for j in range(len(arrayB)): #O(len(array))\n",
    "            if arrayA[i]<arrayB[j]:  #O(1)+O(1)+O(1)\n",
    "                print(str(arrayA[i])+\",\"+str(arrayB[j])) #O(1)"
   ]
  },
  {
   "cell_type": "markdown",
   "metadata": {},
   "source": [
    "total = $O(m\\cdot n)$\n",
    "\n",
    "\n",
    "5 - What is the runtime of the below code?"
   ]
  },
  {
   "cell_type": "code",
   "execution_count": null,
   "metadata": {},
   "outputs": [],
   "source": [
    "def printUnorderedpairs(arrayA, arrayB):\n",
    "    for i in range(len(arrayA)):\n",
    "        for j in range(len(arrayB)):\n",
    "            for k in range(0,100000):\n",
    "                print(str(arrayA[i])+\",\"+str(arrayB[j]))"
   ]
  },
  {
   "cell_type": "markdown",
   "metadata": {},
   "source": [
    "total = $O(m\\cdot n + 100000) = O(m\\cdot n )$. This is kind of confusing to me!\n",
    "\n",
    "\n",
    "\n",
    "6 - What is the runtime of the below code?"
   ]
  },
  {
   "cell_type": "code",
   "execution_count": 3,
   "metadata": {},
   "outputs": [],
   "source": [
    "def reverse(array):\n",
    "    for i in range(0, int(len(array)/2)):    #O(len(array)/2)\n",
    "        \n",
    "        # captura indice del ultimo\n",
    "        other = len(array) - i - 1           #O(3)\n",
    "        # guarda una referencia del primero\n",
    "        temp = array[i]                      #O(1)\n",
    "        \n",
    "        # reemplaza el primero por el ultimo\n",
    "        array[i] = array[other]              #O(1)\n",
    "        \n",
    "        # reemplaza el ultimo por el primero\n",
    "        array[other] = temp                  #O(1)\n",
    "    print(array)"
   ]
  },
  {
   "cell_type": "markdown",
   "metadata": {},
   "source": [
    "total = $O(\\dfrac{n}{2})$\n",
    "\n",
    "\n",
    "\n",
    "7 - Which of the following are equivalent to $O(N)? Why?$\n",
    "\n",
    "\\begin{align}\n",
    "O(N+P) &, where P < \\dfrac{N}{2} \\\\\n",
    "O(2N)  &,\\\\\n",
    "O(N + log(N)) &, \\\\\n",
    "O(N + N*log(N)) &,\\\\\n",
    "O(N+M)\n",
    "\\end{align}\n",
    "\n",
    "answer: \n",
    "\n",
    "\n",
    "\\begin{align}\n",
    "O(N+P) &, where P < \\dfrac{N}{2} \\rightarrow O(N+\\dfrac{N}{2}) \\approx O(N) \\\\\n",
    "O(2N)  &, \\rightarrow \\approx O(N)\\\\\n",
    "O(N + log(N)) &, \\approx O(N) \\\\\n",
    "\\end{align}"
   ]
  }
 ],
 "metadata": {
  "kernelspec": {
   "display_name": "ambiente-audio-2023",
   "language": "python",
   "name": "python3"
  },
  "language_info": {
   "codemirror_mode": {
    "name": "ipython",
    "version": 3
   },
   "file_extension": ".py",
   "mimetype": "text/x-python",
   "name": "python",
   "nbconvert_exporter": "python",
   "pygments_lexer": "ipython3",
   "version": "3.11.6"
  }
 },
 "nbformat": 4,
 "nbformat_minor": 2
}
