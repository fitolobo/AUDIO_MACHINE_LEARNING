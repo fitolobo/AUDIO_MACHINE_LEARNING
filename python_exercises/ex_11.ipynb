{
 "cells": [
  {
   "cell_type": "markdown",
   "metadata": {},
   "source": [
    "Max Product of Two Integers\n",
    "\n",
    "Dado un arreglo de enteros, encuentre el producto máximo entre dos enteros dentro de ese arreglo. "
   ]
  },
  {
   "cell_type": "code",
   "execution_count": 21,
   "metadata": {},
   "outputs": [],
   "source": [
    "arr = [1,7,3,4,9,5]\n",
    "output = 63"
   ]
  },
  {
   "cell_type": "code",
   "execution_count": 6,
   "metadata": {},
   "outputs": [],
   "source": [
    "def max_product(arr):\n",
    "    arr.sort()\n",
    "    return arr[-1]*arr[-2]"
   ]
  },
  {
   "cell_type": "code",
   "execution_count": 7,
   "metadata": {},
   "outputs": [
    {
     "data": {
      "text/plain": [
       "63"
      ]
     },
     "execution_count": 7,
     "metadata": {},
     "output_type": "execute_result"
    }
   ],
   "source": [
    "max_product(arr)"
   ]
  },
  {
   "cell_type": "markdown",
   "metadata": {},
   "source": [
    "Otra forma"
   ]
  },
  {
   "cell_type": "code",
   "execution_count": 8,
   "metadata": {},
   "outputs": [],
   "source": [
    "def max_product(arr):\n",
    "    arr.sort(reverse=True)\n",
    "    return arr[0]*arr[1]"
   ]
  },
  {
   "cell_type": "code",
   "execution_count": 9,
   "metadata": {},
   "outputs": [
    {
     "data": {
      "text/plain": [
       "63"
      ]
     },
     "execution_count": 9,
     "metadata": {},
     "output_type": "execute_result"
    }
   ],
   "source": [
    "max_product(arr)"
   ]
  },
  {
   "cell_type": "markdown",
   "metadata": {},
   "source": [
    "Sin utilizar ```sort```"
   ]
  },
  {
   "cell_type": "code",
   "execution_count": 22,
   "metadata": {},
   "outputs": [],
   "source": [
    "def max_product(arr):\n",
    "    \n",
    "    # para almacenar los valores máximos\n",
    "    max_place_holder_val = []               #O(1)  empty list\n",
    "    # init\n",
    "    max_place_holder_val.append(arr[0])     #O(1)  append element\n",
    "    max_ref = arr[0]                        #O(1)  constant init\n",
    "    \n",
    "    for i in range(1,len(arr)):             # O(n) loop      \n",
    "        if max_ref< arr[i]:                 # O(1) condition\n",
    "            max_place_holder_val.append(arr[i]) #O(1)  append element\n",
    "            max_ref = arr[i]                    #O(1)  assingment\n",
    "            if len(max_place_holder_val) == 3:  #O(1) condition\n",
    "                max_place_holder_val.pop(0)     #O(n) remove first element :( \n",
    "            \n",
    "            print(f\"max ref: {max_ref}\")\n",
    "            print(f\"values {max_place_holder_val}\")\n",
    "            \n",
    "    return max_place_holder_val[0]*max_place_holder_val[1] # O(1) condition"
   ]
  },
  {
   "cell_type": "code",
   "execution_count": 23,
   "metadata": {},
   "outputs": [
    {
     "name": "stdout",
     "output_type": "stream",
     "text": [
      "max ref: 7\n",
      "values [1, 7]\n",
      "max ref: 9\n",
      "values [7, 9]\n"
     ]
    },
    {
     "data": {
      "text/plain": [
       "63"
      ]
     },
     "execution_count": 23,
     "metadata": {},
     "output_type": "execute_result"
    }
   ],
   "source": [
    "max_product(arr)"
   ]
  },
  {
   "cell_type": "markdown",
   "metadata": {},
   "source": [
    "Otra forma: más eficiencia (el pop que usé anteriormente es menos eficiente)"
   ]
  },
  {
   "cell_type": "code",
   "execution_count": 24,
   "metadata": {},
   "outputs": [],
   "source": [
    "def max_product(arr):\n",
    "    # La parte dificil de entender es el primer if.\n",
    "    # max1 es la primera variable que pasa por la condición, por lo tanto\n",
    "    # dada la inicialización siempre será el número más grande!\n",
    "    \n",
    "    # init\n",
    "    max1, max2 = 0, 0     #O(1) constant init\n",
    "    \n",
    "    for num in arr:       #O(n) loop\n",
    "        \n",
    "        if num > max1:    #O(1) comparison\n",
    "            max2 = max1   #O(1) assignment\n",
    "            max1 = num    #O(1) assignment\n",
    "            \n",
    "        elif num > max2:  #O(1) comparison\n",
    "            max2 = num    #O(1) assignment\n",
    "            \n",
    "    return max1*max2        "
   ]
  },
  {
   "cell_type": "code",
   "execution_count": 25,
   "metadata": {},
   "outputs": [
    {
     "data": {
      "text/plain": [
       "63"
      ]
     },
     "execution_count": 25,
     "metadata": {},
     "output_type": "execute_result"
    }
   ],
   "source": [
    "max_product(arr)"
   ]
  },
  {
   "cell_type": "code",
   "execution_count": null,
   "metadata": {},
   "outputs": [],
   "source": []
  }
 ],
 "metadata": {
  "kernelspec": {
   "display_name": "ambiente-audio-2023",
   "language": "python",
   "name": "python3"
  },
  "language_info": {
   "codemirror_mode": {
    "name": "ipython",
    "version": 3
   },
   "file_extension": ".py",
   "mimetype": "text/x-python",
   "name": "python",
   "nbconvert_exporter": "python",
   "pygments_lexer": "ipython3",
   "version": "3.11.6"
  }
 },
 "nbformat": 4,
 "nbformat_minor": 2
}
