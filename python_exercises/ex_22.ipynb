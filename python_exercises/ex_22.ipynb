{
 "cells": [
  {
   "cell_type": "code",
   "execution_count": 83,
   "metadata": {},
   "outputs": [],
   "source": [
    "def max_sub_array(x):\n",
    "    maxsum = float('-inf')\n",
    "    currentsum = 0\n",
    "    \n",
    "    for num in x:\n",
    "        currentsum+= num\n",
    "        if currentsum > maxsum:\n",
    "            maxsum = currentsum\n",
    "        if currentsum < 0 :\n",
    "            currentsum = 0\n",
    "            \n",
    "        \n",
    "    return maxsum"
   ]
  },
  {
   "cell_type": "code",
   "execution_count": 84,
   "metadata": {},
   "outputs": [],
   "source": [
    "#x =[-2,1,-3,4,-1,2,1,-5,4]\n",
    "#x = [-1]\n",
    "#x = [-2,-1]\n",
    "x = [-1,-2]"
   ]
  },
  {
   "cell_type": "code",
   "execution_count": 86,
   "metadata": {},
   "outputs": [
    {
     "data": {
      "text/plain": [
       "-1"
      ]
     },
     "execution_count": 86,
     "metadata": {},
     "output_type": "execute_result"
    }
   ],
   "source": [
    "max_sub_array(x)"
   ]
  }
 ],
 "metadata": {
  "kernelspec": {
   "display_name": "ambiente-audio-2023",
   "language": "python",
   "name": "python3"
  },
  "language_info": {
   "codemirror_mode": {
    "name": "ipython",
    "version": 3
   },
   "file_extension": ".py",
   "mimetype": "text/x-python",
   "name": "python",
   "nbconvert_exporter": "python",
   "pygments_lexer": "ipython3",
   "version": "3.11.6"
  }
 },
 "nbformat": 4,
 "nbformat_minor": 2
}
