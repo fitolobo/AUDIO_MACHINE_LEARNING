{
 "cells": [
  {
   "cell_type": "markdown",
   "metadata": {},
   "source": [
    "Escribe una función para encontrar todos los pares de un arreglo de enteros cuya suma es igual a un número dado. \n",
    "No se consideran los pares conmutativos. \n",
    "\n",
    "```python\n",
    "pair_sum([2,4,3,5,6,-2,4,7,8,9],7)\n",
    "output: ['2+5', '4+3','3+4','-2+9']\n",
    "```"
   ]
  },
  {
   "cell_type": "code",
   "execution_count": 19,
   "metadata": {},
   "outputs": [],
   "source": [
    "def pair_sum(myList,target):\n",
    "    \n",
    "    map_sum = {}\n",
    "    results = []\n",
    "    \n",
    "    for i,value in enumerate(myList):\n",
    "        \n",
    "        print(f\"value: {value}\")\n",
    "        print(f\"target: {target}\")\n",
    "        print(f\"diff: {target- value}\")\n",
    "        \n",
    "        if value in map_sum:\n",
    "            s2 = str(value)\n",
    "            s1 = str(myList[map_sum[value]])\n",
    "            s = s1 + '+' + s2\n",
    "            \n",
    "            results.append(s)\n",
    "            \n",
    "        if target - value not in map_sum:\n",
    "            map_sum[target - value] = i\n",
    "            print(f\"iteration: {i}\")\n",
    "            print(map_sum)\n",
    "            \n",
    "    return results\n",
    "               "
   ]
  },
  {
   "cell_type": "code",
   "execution_count": 20,
   "metadata": {},
   "outputs": [],
   "source": [
    "myList = [2,4,3,5,6,-2,4,7,8,9]\n",
    "target = 7"
   ]
  },
  {
   "cell_type": "code",
   "execution_count": 21,
   "metadata": {},
   "outputs": [
    {
     "name": "stdout",
     "output_type": "stream",
     "text": [
      "value: 2\n",
      "target: 7\n",
      "diff: 5\n",
      "iteration: 0\n",
      "{5: 0}\n",
      "value: 4\n",
      "target: 7\n",
      "diff: 3\n",
      "iteration: 1\n",
      "{5: 0, 3: 1}\n",
      "value: 3\n",
      "target: 7\n",
      "diff: 4\n",
      "iteration: 2\n",
      "{5: 0, 3: 1, 4: 2}\n",
      "value: 5\n",
      "target: 7\n",
      "diff: 2\n",
      "iteration: 3\n",
      "{5: 0, 3: 1, 4: 2, 2: 3}\n",
      "value: 6\n",
      "target: 7\n",
      "diff: 1\n",
      "iteration: 4\n",
      "{5: 0, 3: 1, 4: 2, 2: 3, 1: 4}\n",
      "value: -2\n",
      "target: 7\n",
      "diff: 9\n",
      "iteration: 5\n",
      "{5: 0, 3: 1, 4: 2, 2: 3, 1: 4, 9: 5}\n",
      "value: 4\n",
      "target: 7\n",
      "diff: 3\n",
      "value: 7\n",
      "target: 7\n",
      "diff: 0\n",
      "iteration: 7\n",
      "{5: 0, 3: 1, 4: 2, 2: 3, 1: 4, 9: 5, 0: 7}\n",
      "value: 8\n",
      "target: 7\n",
      "diff: -1\n",
      "iteration: 8\n",
      "{5: 0, 3: 1, 4: 2, 2: 3, 1: 4, 9: 5, 0: 7, -1: 8}\n",
      "value: 9\n",
      "target: 7\n",
      "diff: -2\n",
      "iteration: 9\n",
      "{5: 0, 3: 1, 4: 2, 2: 3, 1: 4, 9: 5, 0: 7, -1: 8, -2: 9}\n"
     ]
    },
    {
     "data": {
      "text/plain": [
       "['4+3', '2+5', '3+4', '-2+9']"
      ]
     },
     "execution_count": 21,
     "metadata": {},
     "output_type": "execute_result"
    }
   ],
   "source": [
    "pair_sum(myList,target)"
   ]
  },
  {
   "cell_type": "markdown",
   "metadata": {},
   "source": [
    "Otra solucion"
   ]
  },
  {
   "cell_type": "code",
   "execution_count": 22,
   "metadata": {},
   "outputs": [],
   "source": [
    "def pair_sum(arr, target_sum):\n",
    "    result = []\n",
    "    for i in range(len(arr)):\n",
    "        for j in range(i+1,len(arr)):\n",
    "            if arr[i] + arr[j] == target_sum:\n",
    "                result.append(f\"{arr[i]}+{arr[j]}\")\n",
    "    return result"
   ]
  },
  {
   "cell_type": "code",
   "execution_count": 23,
   "metadata": {},
   "outputs": [
    {
     "data": {
      "text/plain": [
       "['2+5', '4+3', '3+4', '-2+9']"
      ]
     },
     "execution_count": 23,
     "metadata": {},
     "output_type": "execute_result"
    }
   ],
   "source": [
    "pair_sum(myList, target)"
   ]
  }
 ],
 "metadata": {
  "kernelspec": {
   "display_name": "ambiente-audio-2023",
   "language": "python",
   "name": "python3"
  },
  "language_info": {
   "codemirror_mode": {
    "name": "ipython",
    "version": 3
   },
   "file_extension": ".py",
   "mimetype": "text/x-python",
   "name": "python",
   "nbconvert_exporter": "python",
   "pygments_lexer": "ipython3",
   "version": "3.11.6"
  }
 },
 "nbformat": 4,
 "nbformat_minor": 2
}
