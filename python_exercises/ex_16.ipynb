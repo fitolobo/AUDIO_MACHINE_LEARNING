{
 "cells": [
  {
   "cell_type": "markdown",
   "metadata": {},
   "source": [
    "Escribe una función para encontrar todos los pares de un arreglo de enteros cuya suma es igual a un número dado. \n",
    "No se consideran los pares conmutativos. \n",
    "\n",
    "```python\n",
    "pair_sum([2,4,3,5,6,-2,4,7,8,9],7)\n",
    "output: ['2+5', '4+3','3+4','-2+9']\n",
    "```"
   ]
  },
  {
   "cell_type": "code",
   "execution_count": null,
   "metadata": {},
   "outputs": [],
   "source": []
  }
 ],
 "metadata": {
  "kernelspec": {
   "display_name": "ambiente-audio-2023",
   "language": "python",
   "name": "python3"
  },
  "language_info": {
   "name": "python",
   "version": "3.11.6"
  }
 },
 "nbformat": 4,
 "nbformat_minor": 2
}
