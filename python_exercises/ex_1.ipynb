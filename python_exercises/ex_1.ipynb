{
 "cells": [
  {
   "cell_type": "markdown",
   "metadata": {},
   "source": [
    "Exercise 1\n",
    "\n",
    "Given an integer array nums, return true if any value appears at least twice in the array, and return false if every element is distinct."
   ]
  },
  {
   "cell_type": "code",
   "execution_count": 68,
   "metadata": {},
   "outputs": [],
   "source": [
    "from typing import List"
   ]
  },
  {
   "cell_type": "code",
   "execution_count": 65,
   "metadata": {},
   "outputs": [],
   "source": [
    "def containsDuplicate(nums):\n",
    "    map = {}\n",
    "    counter = int(0)\n",
    "    state = False\n",
    "    L = len(nums)\n",
    "    \n",
    "    while state == False: \n",
    "        if (L - (counter +1)) < 0:\n",
    "            return state\n",
    "        else:\n",
    "            print(f\"looking for component {counter}: {nums[counter]}\")\n",
    "            num = nums[counter]\n",
    "            if num not in map.values():\n",
    "                print(f\"num not in map: {num}\")\n",
    "                map[counter] = num\n",
    "                counter +=1\n",
    "                print(f\"counter up: {counter}\")\n",
    "                print(\"#############\")\n",
    "            else:\n",
    "                print(f\"state: {state}\")\n",
    "                state = True\n",
    "                return state\n",
    "                \n",
    "        "
   ]
  },
  {
   "cell_type": "code",
   "execution_count": 66,
   "metadata": {},
   "outputs": [
    {
     "name": "stdout",
     "output_type": "stream",
     "text": [
      "looking for component 0: 1\n",
      "num not in map: 1\n",
      "counter up: 1\n",
      "#############\n",
      "looking for component 1: 1\n",
      "state: False\n"
     ]
    }
   ],
   "source": [
    "v = [1,1]\n",
    "output = containsDuplicate(v)"
   ]
  },
  {
   "cell_type": "code",
   "execution_count": 67,
   "metadata": {},
   "outputs": [
    {
     "data": {
      "text/plain": [
       "True"
      ]
     },
     "execution_count": 67,
     "metadata": {},
     "output_type": "execute_result"
    }
   ],
   "source": [
    "output "
   ]
  },
  {
   "cell_type": "markdown",
   "metadata": {},
   "source": [
    "Alternativa"
   ]
  },
  {
   "cell_type": "code",
   "execution_count": null,
   "metadata": {},
   "outputs": [],
   "source": [
    "class Solution:\n",
    "    def containsDuplicate(self, nums: List[int]) -> bool:\n",
    "        map = {}\n",
    "        counter = int(0)\n",
    "        state = False\n",
    "\n",
    "        for i in range(len(nums)):\n",
    "\n",
    "            num = nums[i]\n",
    "            if num not in map.values():\n",
    "                map[i] = num\n",
    "            else:\n",
    "                state = True\n",
    "                return state\n",
    "            if state == True:\n",
    "                break"
   ]
  },
  {
   "cell_type": "markdown",
   "metadata": {},
   "source": [
    "Solución Correcta :D"
   ]
  },
  {
   "cell_type": "code",
   "execution_count": 69,
   "metadata": {},
   "outputs": [],
   "source": [
    "class Solution:\n",
    "    def containsDuplicate(self, nums: List[int]) -> bool:\n",
    "        L0 = len(nums)\n",
    "        L1 = len(list(set(nums)))\n",
    "        \n",
    "        if L1 != L0:\n",
    "            return True\n",
    "        else:\n",
    "            return False"
   ]
  },
  {
   "cell_type": "code",
   "execution_count": 70,
   "metadata": {},
   "outputs": [],
   "source": [
    "mysol = Solution()"
   ]
  },
  {
   "cell_type": "code",
   "execution_count": 71,
   "metadata": {},
   "outputs": [
    {
     "data": {
      "text/plain": [
       "True"
      ]
     },
     "execution_count": 71,
     "metadata": {},
     "output_type": "execute_result"
    }
   ],
   "source": [
    "mysol.containsDuplicate(v)"
   ]
  },
  {
   "cell_type": "code",
   "execution_count": null,
   "metadata": {},
   "outputs": [],
   "source": []
  }
 ],
 "metadata": {
  "kernelspec": {
   "display_name": "Python 3",
   "language": "python",
   "name": "python3"
  },
  "language_info": {
   "codemirror_mode": {
    "name": "ipython",
    "version": 3
   },
   "file_extension": ".py",
   "mimetype": "text/x-python",
   "name": "python",
   "nbconvert_exporter": "python",
   "pygments_lexer": "ipython3",
   "version": "3.11.6"
  }
 },
 "nbformat": 4,
 "nbformat_minor": 2
}
