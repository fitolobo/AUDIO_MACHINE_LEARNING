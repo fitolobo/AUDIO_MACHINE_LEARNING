{
 "cells": [
  {
   "cell_type": "markdown",
   "metadata": {},
   "source": [
    "### Insertion Sort Algorithm (introduction to Algorithms Thomas Cormen)\n",
    "Page 19"
   ]
  },
  {
   "cell_type": "code",
   "execution_count": 31,
   "metadata": {},
   "outputs": [],
   "source": [
    "def insertion_sort(x):\n",
    "    n = len(x)\n",
    "    for i in range(1,n):\n",
    "        print(f\"i pointer: {i}\")\n",
    "        # new card\n",
    "        key = x[i]\n",
    "        print(f\"key: {key}\")\n",
    "        # pointer to the previous element on your list\n",
    "        j = i - 1\n",
    " \n",
    "        print(f\"initial j pointer: {j}\")\n",
    "        # we need a while loop for future instances \n",
    "        # where we need to move a card from the very beginning to the end of the list\n",
    "        \n",
    "        # sorted - insert\n",
    "        while j>= 0 and x[j]>key:\n",
    "            print(f\"in the while loop\")\n",
    "            # new card replaced by the previous card\n",
    "            print(f\"how is x[j+1]: {x[j+1]}\")\n",
    "            print(f\"how is x[i]: {x[j]}\")\n",
    "            x[j+1] = x[j]\n",
    "            print(f\"updated array: {x}\")\n",
    "            j = j - 1\n",
    "            print(f\"updated j: {j}\")\n",
    "        \n",
    "        print(f\"how is j: {j}\")\n",
    "        print(f\"how is x[j+1]: {x[j+1]}\")\n",
    "        x[j+1] = key\n",
    "        print(f\"final array: {x}\")\n",
    "        print(\"new iter ###########################\")\n",
    "    return x\n",
    "        "
   ]
  },
  {
   "cell_type": "code",
   "execution_count": 32,
   "metadata": {},
   "outputs": [
    {
     "name": "stdout",
     "output_type": "stream",
     "text": [
      "i pointer: 1\n",
      "key: 4\n",
      "initial j pointer: 0\n",
      "in the while loop\n",
      "how is x[j+1]: 4\n",
      "how is x[i]: 5\n",
      "updated array: [5, 5, 1, 2, 3]\n",
      "updated j: -1\n",
      "how is j: -1\n",
      "how is x[j+1]: 5\n",
      "final array: [4, 5, 1, 2, 3]\n",
      "new iter ###########################\n",
      "i pointer: 2\n",
      "key: 1\n",
      "initial j pointer: 1\n",
      "in the while loop\n",
      "how is x[j+1]: 1\n",
      "how is x[i]: 5\n",
      "updated array: [4, 5, 5, 2, 3]\n",
      "updated j: 0\n",
      "in the while loop\n",
      "how is x[j+1]: 5\n",
      "how is x[i]: 4\n",
      "updated array: [4, 4, 5, 2, 3]\n",
      "updated j: -1\n",
      "how is j: -1\n",
      "how is x[j+1]: 4\n",
      "final array: [1, 4, 5, 2, 3]\n",
      "new iter ###########################\n",
      "i pointer: 3\n",
      "key: 2\n",
      "initial j pointer: 2\n",
      "in the while loop\n",
      "how is x[j+1]: 2\n",
      "how is x[i]: 5\n",
      "updated array: [1, 4, 5, 5, 3]\n",
      "updated j: 1\n",
      "in the while loop\n",
      "how is x[j+1]: 5\n",
      "how is x[i]: 4\n",
      "updated array: [1, 4, 4, 5, 3]\n",
      "updated j: 0\n",
      "how is j: 0\n",
      "how is x[j+1]: 4\n",
      "final array: [1, 2, 4, 5, 3]\n",
      "new iter ###########################\n",
      "i pointer: 4\n",
      "key: 3\n",
      "initial j pointer: 3\n",
      "in the while loop\n",
      "how is x[j+1]: 3\n",
      "how is x[i]: 5\n",
      "updated array: [1, 2, 4, 5, 5]\n",
      "updated j: 2\n",
      "in the while loop\n",
      "how is x[j+1]: 5\n",
      "how is x[i]: 4\n",
      "updated array: [1, 2, 4, 4, 5]\n",
      "updated j: 1\n",
      "how is j: 1\n",
      "how is x[j+1]: 4\n",
      "final array: [1, 2, 3, 4, 5]\n",
      "new iter ###########################\n",
      "[1, 2, 3, 4, 5]\n"
     ]
    }
   ],
   "source": [
    "x = [4,2,3]\n",
    "x = [5,2,4,6,1,3]\n",
    "x = [5,4,1,2,3]\n",
    "print(insertion_sort(x))"
   ]
  }
 ],
 "metadata": {
  "kernelspec": {
   "display_name": "ambiente-audio-2023",
   "language": "python",
   "name": "python3"
  },
  "language_info": {
   "codemirror_mode": {
    "name": "ipython",
    "version": 3
   },
   "file_extension": ".py",
   "mimetype": "text/x-python",
   "name": "python",
   "nbconvert_exporter": "python",
   "pygments_lexer": "ipython3",
   "version": "3.11.6"
  }
 },
 "nbformat": 4,
 "nbformat_minor": 2
}
