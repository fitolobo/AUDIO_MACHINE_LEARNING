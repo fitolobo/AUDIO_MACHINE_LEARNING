{
 "cells": [
  {
   "cell_type": "markdown",
   "metadata": {},
   "source": [
    "# Run and Debug\n",
    "\n",
    "\n",
    "\n",
    "## First Example\n",
    "\n",
    "1 - Open the ```BigO.py``` on VS-Code. \n",
    "\n",
    "2 - On the left of the last line of code mark the debug mode (red bullet point): "
   ]
  },
  {
   "cell_type": "markdown",
   "metadata": {},
   "source": [
    "![](../img/debug.png)"
   ]
  },
  {
   "cell_type": "markdown",
   "metadata": {},
   "source": [
    "3 - After that, go to ```view``` -> ```run``` -> ```debug and run```. Each ```step info``` will add a ```sum``` function to the memory stack. \n",
    "In this case, the method is $O(n)$ space complexity. \n",
    "\n",
    "## Second Example"
   ]
  },
  {
   "cell_type": "markdown",
   "metadata": {},
   "source": [
    "The ```pair_sum``` method is also using a ```for``` loop but is not $O(n)$ it is just $O(1)$. Let's check using the debug mode. The method is not stacking elements to the memory. "
   ]
  }
 ],
 "metadata": {
  "language_info": {
   "name": "python"
  }
 },
 "nbformat": 4,
 "nbformat_minor": 2
}
